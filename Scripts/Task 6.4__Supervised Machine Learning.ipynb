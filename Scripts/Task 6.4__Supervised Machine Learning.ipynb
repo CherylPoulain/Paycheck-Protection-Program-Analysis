{
 "cells": [
  {
   "cell_type": "markdown",
   "id": "395c9801",
   "metadata": {},
   "source": [
    "# CONTENT LIST\n",
    "\n",
    "1. Importing libraries and data\n",
    "2. Data cleaning\n",
    "3. Splitting DF to Run Regression Analysis\n",
    "4. Data prep for regression analysis\n",
    "5. Regression analysis"
   ]
  },
  {
   "cell_type": "markdown",
   "id": "1d4a31b9",
   "metadata": {},
   "source": [
    "# 01. Importing Data & Libraries"
   ]
  },
  {
   "cell_type": "code",
   "execution_count": 1,
   "id": "974c6b4b",
   "metadata": {},
   "outputs": [],
   "source": [
    "import pandas as pd\n",
    "import numpy as np\n",
    "import seaborn as sns\n",
    "import matplotlib\n",
    "import matplotlib.pyplot as plt\n",
    "import os\n",
    "import sklearn\n",
    "from sklearn.model_selection import train_test_split \n",
    "from sklearn.linear_model import LinearRegression\n",
    "from sklearn.metrics import mean_squared_error, r2_score"
   ]
  },
  {
   "cell_type": "code",
   "execution_count": 2,
   "id": "b55238e5",
   "metadata": {},
   "outputs": [],
   "source": [
    "# This option ensures that the graphs you create are displayed within the notebook without the need to \"call\" them specifically.\n",
    "\n",
    "%matplotlib inline"
   ]
  },
  {
   "cell_type": "code",
   "execution_count": 3,
   "id": "727d4d94",
   "metadata": {},
   "outputs": [],
   "source": [
    "path = r'C:\\Users\\chery\\Desktop\\CareerFoundry\\Immersion Data Analytics\\Achievement 6'"
   ]
  },
  {
   "cell_type": "code",
   "execution_count": 4,
   "id": "34326e39",
   "metadata": {},
   "outputs": [],
   "source": [
    "# Import Merged Clean DF\n",
    "\n",
    "df = pd.read_pickle(os.path.join(path, '04-2021 PPP Loan Analysis','02 Data', 'Prepared Data','Task 6.3 Merged.pkl'))"
   ]
  },
  {
   "cell_type": "markdown",
   "id": "4b7b821b",
   "metadata": {},
   "source": [
    "# 02. Data Cleaning"
   ]
  },
  {
   "cell_type": "code",
   "execution_count": 5,
   "id": "a2e0d2dc",
   "metadata": {},
   "outputs": [
    {
     "data": {
      "text/html": [
       "<div>\n",
       "<style scoped>\n",
       "    .dataframe tbody tr th:only-of-type {\n",
       "        vertical-align: middle;\n",
       "    }\n",
       "\n",
       "    .dataframe tbody tr th {\n",
       "        vertical-align: top;\n",
       "    }\n",
       "\n",
       "    .dataframe thead th {\n",
       "        text-align: right;\n",
       "    }\n",
       "</style>\n",
       "<table border=\"1\" class=\"dataframe\">\n",
       "  <thead>\n",
       "    <tr style=\"text-align: right;\">\n",
       "      <th></th>\n",
       "      <th>STATE_NAME</th>\n",
       "      <th>STATE_FIPS</th>\n",
       "      <th>STATE_ABBR</th>\n",
       "      <th>geometry</th>\n",
       "      <th>loan_amount</th>\n",
       "      <th>city</th>\n",
       "      <th>zip</th>\n",
       "      <th>industry_code</th>\n",
       "      <th>business_type</th>\n",
       "      <th>business_owner_race</th>\n",
       "      <th>business_owner_gender</th>\n",
       "      <th>business_owner_vet_status</th>\n",
       "      <th>jobs_reported</th>\n",
       "      <th>date_loan_approved</th>\n",
       "      <th>lender</th>\n",
       "      <th>congressional_district</th>\n",
       "      <th>_merge</th>\n",
       "    </tr>\n",
       "  </thead>\n",
       "  <tbody>\n",
       "    <tr>\n",
       "      <th>0</th>\n",
       "      <td>Washington</td>\n",
       "      <td>53</td>\n",
       "      <td>WA</td>\n",
       "      <td>MULTIPOLYGON (((-122.40202 48.22522, -122.4628...</td>\n",
       "      <td>149992.0</td>\n",
       "      <td>Bellingham</td>\n",
       "      <td>98225.0</td>\n",
       "      <td>nan</td>\n",
       "      <td>Subchapter S Corporation</td>\n",
       "      <td>NaN</td>\n",
       "      <td>NaN</td>\n",
       "      <td>NaN</td>\n",
       "      <td>11.0</td>\n",
       "      <td>05/01/2020</td>\n",
       "      <td>JPMorgan Chase Bank, National Association</td>\n",
       "      <td>WA-02</td>\n",
       "      <td>both</td>\n",
       "    </tr>\n",
       "    <tr>\n",
       "      <th>1</th>\n",
       "      <td>Washington</td>\n",
       "      <td>53</td>\n",
       "      <td>WA</td>\n",
       "      <td>MULTIPOLYGON (((-122.40202 48.22522, -122.4628...</td>\n",
       "      <td>149980.0</td>\n",
       "      <td>Spokane Valley</td>\n",
       "      <td>99216.0</td>\n",
       "      <td>621210.0</td>\n",
       "      <td>Limited  Liability Company(LLC)</td>\n",
       "      <td>NaN</td>\n",
       "      <td>NaN</td>\n",
       "      <td>NaN</td>\n",
       "      <td>12.0</td>\n",
       "      <td>04/29/2020</td>\n",
       "      <td>Banner Bank</td>\n",
       "      <td>WA-05</td>\n",
       "      <td>both</td>\n",
       "    </tr>\n",
       "    <tr>\n",
       "      <th>2</th>\n",
       "      <td>Washington</td>\n",
       "      <td>53</td>\n",
       "      <td>WA</td>\n",
       "      <td>MULTIPOLYGON (((-122.40202 48.22522, -122.4628...</td>\n",
       "      <td>149975.0</td>\n",
       "      <td>Kirkland</td>\n",
       "      <td>98033.0</td>\n",
       "      <td>339999.0</td>\n",
       "      <td>Subchapter S Corporation</td>\n",
       "      <td>NaN</td>\n",
       "      <td>NaN</td>\n",
       "      <td>NaN</td>\n",
       "      <td>6.0</td>\n",
       "      <td>04/16/2020</td>\n",
       "      <td>Seattle Bank</td>\n",
       "      <td>WA-01</td>\n",
       "      <td>both</td>\n",
       "    </tr>\n",
       "    <tr>\n",
       "      <th>3</th>\n",
       "      <td>Washington</td>\n",
       "      <td>53</td>\n",
       "      <td>WA</td>\n",
       "      <td>MULTIPOLYGON (((-122.40202 48.22522, -122.4628...</td>\n",
       "      <td>149950.0</td>\n",
       "      <td>Port Orchard</td>\n",
       "      <td>98367.0</td>\n",
       "      <td>238210.0</td>\n",
       "      <td>Limited  Liability Company(LLC)</td>\n",
       "      <td>NaN</td>\n",
       "      <td>NaN</td>\n",
       "      <td>NaN</td>\n",
       "      <td>10.0</td>\n",
       "      <td>06/13/2020</td>\n",
       "      <td>Kabbage, Inc.</td>\n",
       "      <td>WA-06</td>\n",
       "      <td>both</td>\n",
       "    </tr>\n",
       "    <tr>\n",
       "      <th>4</th>\n",
       "      <td>Washington</td>\n",
       "      <td>53</td>\n",
       "      <td>WA</td>\n",
       "      <td>MULTIPOLYGON (((-122.40202 48.22522, -122.4628...</td>\n",
       "      <td>149922.0</td>\n",
       "      <td>Burlington</td>\n",
       "      <td>98233.0</td>\n",
       "      <td>999990.0</td>\n",
       "      <td>Subchapter S Corporation</td>\n",
       "      <td>NaN</td>\n",
       "      <td>NaN</td>\n",
       "      <td>NaN</td>\n",
       "      <td>12.0</td>\n",
       "      <td>05/03/2020</td>\n",
       "      <td>Cross River Bank</td>\n",
       "      <td>WA-02</td>\n",
       "      <td>both</td>\n",
       "    </tr>\n",
       "  </tbody>\n",
       "</table>\n",
       "</div>"
      ],
      "text/plain": [
       "   STATE_NAME STATE_FIPS STATE_ABBR  \\\n",
       "0  Washington         53         WA   \n",
       "1  Washington         53         WA   \n",
       "2  Washington         53         WA   \n",
       "3  Washington         53         WA   \n",
       "4  Washington         53         WA   \n",
       "\n",
       "                                            geometry  loan_amount  \\\n",
       "0  MULTIPOLYGON (((-122.40202 48.22522, -122.4628...     149992.0   \n",
       "1  MULTIPOLYGON (((-122.40202 48.22522, -122.4628...     149980.0   \n",
       "2  MULTIPOLYGON (((-122.40202 48.22522, -122.4628...     149975.0   \n",
       "3  MULTIPOLYGON (((-122.40202 48.22522, -122.4628...     149950.0   \n",
       "4  MULTIPOLYGON (((-122.40202 48.22522, -122.4628...     149922.0   \n",
       "\n",
       "             city      zip industry_code                    business_type  \\\n",
       "0      Bellingham  98225.0           nan         Subchapter S Corporation   \n",
       "1  Spokane Valley  99216.0      621210.0  Limited  Liability Company(LLC)   \n",
       "2        Kirkland  98033.0      339999.0         Subchapter S Corporation   \n",
       "3    Port Orchard  98367.0      238210.0  Limited  Liability Company(LLC)   \n",
       "4      Burlington  98233.0      999990.0         Subchapter S Corporation   \n",
       "\n",
       "  business_owner_race business_owner_gender business_owner_vet_status  \\\n",
       "0                 NaN                   NaN                       NaN   \n",
       "1                 NaN                   NaN                       NaN   \n",
       "2                 NaN                   NaN                       NaN   \n",
       "3                 NaN                   NaN                       NaN   \n",
       "4                 NaN                   NaN                       NaN   \n",
       "\n",
       "   jobs_reported date_loan_approved  \\\n",
       "0           11.0         05/01/2020   \n",
       "1           12.0         04/29/2020   \n",
       "2            6.0         04/16/2020   \n",
       "3           10.0         06/13/2020   \n",
       "4           12.0         05/03/2020   \n",
       "\n",
       "                                      lender congressional_district _merge  \n",
       "0  JPMorgan Chase Bank, National Association                  WA-02   both  \n",
       "1                                Banner Bank                  WA-05   both  \n",
       "2                               Seattle Bank                  WA-01   both  \n",
       "3                              Kabbage, Inc.                  WA-06   both  \n",
       "4                           Cross River Bank                  WA-02   both  "
      ]
     },
     "execution_count": 5,
     "metadata": {},
     "output_type": "execute_result"
    }
   ],
   "source": [
    "df.head()"
   ]
  },
  {
   "cell_type": "code",
   "execution_count": 6,
   "id": "6691a310",
   "metadata": {},
   "outputs": [
    {
     "data": {
      "text/plain": [
       "(4200172, 17)"
      ]
     },
     "execution_count": 6,
     "metadata": {},
     "output_type": "execute_result"
    }
   ],
   "source": [
    "df.shape"
   ]
  },
  {
   "cell_type": "code",
   "execution_count": 7,
   "id": "3844408e",
   "metadata": {},
   "outputs": [
    {
     "data": {
      "text/plain": [
       "Index(['STATE_NAME', 'STATE_FIPS', 'STATE_ABBR', 'geometry', 'loan_amount',\n",
       "       'city', 'zip', 'industry_code', 'business_type', 'business_owner_race',\n",
       "       'business_owner_gender', 'business_owner_vet_status', 'jobs_reported',\n",
       "       'date_loan_approved', 'lender', 'congressional_district', '_merge'],\n",
       "      dtype='object')"
      ]
     },
     "execution_count": 7,
     "metadata": {},
     "output_type": "execute_result"
    }
   ],
   "source": [
    "df.columns"
   ]
  },
  {
   "cell_type": "code",
   "execution_count": 8,
   "id": "e25bd57f",
   "metadata": {},
   "outputs": [
    {
     "data": {
      "text/html": [
       "<div>\n",
       "<style scoped>\n",
       "    .dataframe tbody tr th:only-of-type {\n",
       "        vertical-align: middle;\n",
       "    }\n",
       "\n",
       "    .dataframe tbody tr th {\n",
       "        vertical-align: top;\n",
       "    }\n",
       "\n",
       "    .dataframe thead th {\n",
       "        text-align: right;\n",
       "    }\n",
       "</style>\n",
       "<table border=\"1\" class=\"dataframe\">\n",
       "  <thead>\n",
       "    <tr style=\"text-align: right;\">\n",
       "      <th></th>\n",
       "      <th>loan_amount</th>\n",
       "      <th>jobs_reported</th>\n",
       "    </tr>\n",
       "  </thead>\n",
       "  <tbody>\n",
       "    <tr>\n",
       "      <th>count</th>\n",
       "      <td>4.200172e+06</td>\n",
       "      <td>4.200172e+06</td>\n",
       "    </tr>\n",
       "    <tr>\n",
       "      <th>mean</th>\n",
       "      <td>3.246683e+04</td>\n",
       "      <td>4.604324e+00</td>\n",
       "    </tr>\n",
       "    <tr>\n",
       "      <th>std</th>\n",
       "      <td>3.293467e+04</td>\n",
       "      <td>9.897761e+00</td>\n",
       "    </tr>\n",
       "    <tr>\n",
       "      <th>min</th>\n",
       "      <td>1.000000e-02</td>\n",
       "      <td>0.000000e+00</td>\n",
       "    </tr>\n",
       "    <tr>\n",
       "      <th>25%</th>\n",
       "      <td>9.356920e+03</td>\n",
       "      <td>1.000000e+00</td>\n",
       "    </tr>\n",
       "    <tr>\n",
       "      <th>50%</th>\n",
       "      <td>2.070200e+04</td>\n",
       "      <td>2.000000e+00</td>\n",
       "    </tr>\n",
       "    <tr>\n",
       "      <th>75%</th>\n",
       "      <td>4.386300e+04</td>\n",
       "      <td>6.000000e+00</td>\n",
       "    </tr>\n",
       "    <tr>\n",
       "      <th>max</th>\n",
       "      <td>1.499991e+05</td>\n",
       "      <td>5.000000e+02</td>\n",
       "    </tr>\n",
       "  </tbody>\n",
       "</table>\n",
       "</div>"
      ],
      "text/plain": [
       "        loan_amount  jobs_reported\n",
       "count  4.200172e+06   4.200172e+06\n",
       "mean   3.246683e+04   4.604324e+00\n",
       "std    3.293467e+04   9.897761e+00\n",
       "min    1.000000e-02   0.000000e+00\n",
       "25%    9.356920e+03   1.000000e+00\n",
       "50%    2.070200e+04   2.000000e+00\n",
       "75%    4.386300e+04   6.000000e+00\n",
       "max    1.499991e+05   5.000000e+02"
      ]
     },
     "execution_count": 8,
     "metadata": {},
     "output_type": "execute_result"
    }
   ],
   "source": [
    "df.describe()"
   ]
  },
  {
   "cell_type": "markdown",
   "id": "0451f112",
   "metadata": {},
   "source": [
    "#### Missing Values Check"
   ]
  },
  {
   "cell_type": "code",
   "execution_count": 5,
   "id": "1e252f5c",
   "metadata": {},
   "outputs": [
    {
     "data": {
      "text/plain": [
       "STATE_NAME                         0\n",
       "STATE_FIPS                         0\n",
       "STATE_ABBR                         0\n",
       "geometry                           0\n",
       "loan_amount                        0\n",
       "city                               0\n",
       "zip                                0\n",
       "industry_code                      0\n",
       "business_type                      0\n",
       "business_owner_race          3773255\n",
       "business_owner_gender        3322909\n",
       "business_owner_vet_status    3612897\n",
       "jobs_reported                      0\n",
       "date_loan_approved                 0\n",
       "lender                             0\n",
       "congressional_district             0\n",
       "_merge                             0\n",
       "dtype: int64"
      ]
     },
     "execution_count": 5,
     "metadata": {},
     "output_type": "execute_result"
    }
   ],
   "source": [
    "# Check for missing values\n",
    "\n",
    "df.isnull().sum()\n",
    "\n",
    "# While missing values, not handling due to nature of values"
   ]
  },
  {
   "cell_type": "markdown",
   "id": "bb81afbd",
   "metadata": {},
   "source": [
    "#### Duplicates Check"
   ]
  },
  {
   "cell_type": "code",
   "execution_count": null,
   "id": "aa4e47a8",
   "metadata": {},
   "outputs": [],
   "source": [
    "#Check for duplicate values\n",
    "\n",
    "dups = df.duplicated()"
   ]
  },
  {
   "cell_type": "code",
   "execution_count": null,
   "id": "277469b1",
   "metadata": {},
   "outputs": [],
   "source": [
    "dups.shape \n",
    "\n",
    "# Above code could not be run due to hardware issues"
   ]
  },
  {
   "cell_type": "markdown",
   "id": "66cc7de8",
   "metadata": {},
   "source": [
    "#### Extreme Values Check"
   ]
  },
  {
   "cell_type": "code",
   "execution_count": 6,
   "id": "59418ce4",
   "metadata": {},
   "outputs": [
    {
     "name": "stderr",
     "output_type": "stream",
     "text": [
      "C:\\Users\\chery\\anaconda3\\envs\\CF\\lib\\site-packages\\seaborn\\distributions.py:2557: FutureWarning: `distplot` is a deprecated function and will be removed in a future version. Please adapt your code to use either `displot` (a figure-level function with similar flexibility) or `histplot` (an axes-level function for histograms).\n",
      "  warnings.warn(msg, FutureWarning)\n"
     ]
    },
    {
     "data": {
      "text/plain": [
       "<AxesSubplot:xlabel='loan_amount', ylabel='Density'>"
      ]
     },
     "execution_count": 6,
     "metadata": {},
     "output_type": "execute_result"
    },
    {
     "data": {
      "image/png": "[encoded data removed]",
      "text/plain": [
       "<Figure size 432x288 with 1 Axes>"
      ]
     },
     "metadata": {
      "needs_background": "light"
     },
     "output_type": "display_data"
    }
   ],
   "source": [
    "sns.distplot(df['loan_amount'], bins = 25) # Shows extreme values "
   ]
  },
  {
   "cell_type": "code",
   "execution_count": 8,
   "id": "149423d8",
   "metadata": {},
   "outputs": [
    {
     "name": "stderr",
     "output_type": "stream",
     "text": [
      "C:\\Users\\chery\\anaconda3\\envs\\CF\\lib\\site-packages\\seaborn\\distributions.py:2557: FutureWarning: `distplot` is a deprecated function and will be removed in a future version. Please adapt your code to use either `displot` (a figure-level function with similar flexibility) or `histplot` (an axes-level function for histograms).\n",
      "  warnings.warn(msg, FutureWarning)\n"
     ]
    },
    {
     "data": {
      "text/plain": [
       "<AxesSubplot:xlabel='jobs_reported', ylabel='Density'>"
      ]
     },
     "execution_count": 8,
     "metadata": {},
     "output_type": "execute_result"
    },
    {
     "data": {
      "image/png": "[encoded data removed]",
      "text/plain": [
       "<Figure size 432x288 with 1 Axes>"
      ]
     },
     "metadata": {
      "needs_background": "light"
     },
     "output_type": "display_data"
    }
   ],
   "source": [
    "sns.distplot(df['jobs_reported'], bins = 25) # Shows extreme values "
   ]
  },
  {
   "cell_type": "markdown",
   "id": "32d4a473",
   "metadata": {},
   "source": [
    "#### No extreme values in either plot"
   ]
  },
  {
   "cell_type": "markdown",
   "id": "ead7e737",
   "metadata": {},
   "source": [
    "# 03. Splitting DF to Run Regression Analysis"
   ]
  },
  {
   "cell_type": "code",
   "execution_count": 5,
   "id": "20fe2fdd",
   "metadata": {},
   "outputs": [],
   "source": [
    "#Create List holding True/False values to test np.random.rand() <=0.7\n",
    "\n",
    "np.random.seed(4)\n",
    "dev = np.random.rand(len(df)) <= 0.7"
   ]
  },
  {
   "cell_type": "code",
   "execution_count": 6,
   "id": "437b4205",
   "metadata": {},
   "outputs": [
    {
     "data": {
      "text/plain": [
       "array([False,  True, False, ...,  True, False,  True])"
      ]
     },
     "execution_count": 6,
     "metadata": {},
     "output_type": "execute_result"
    }
   ],
   "source": [
    "#Results of New List\n",
    "dev"
   ]
  },
  {
   "cell_type": "code",
   "execution_count": 7,
   "id": "187f697f",
   "metadata": {},
   "outputs": [],
   "source": [
    "#Store 70% of sample in df big, Store 30% of sample in df small\n",
    "\n",
    "big = df[dev]\n",
    "small = df[~dev]"
   ]
  },
  {
   "cell_type": "code",
   "execution_count": 8,
   "id": "23455120",
   "metadata": {},
   "outputs": [
    {
     "data": {
      "text/plain": [
       "4200172"
      ]
     },
     "execution_count": 8,
     "metadata": {},
     "output_type": "execute_result"
    }
   ],
   "source": [
    "#Checking Size of Original df\n",
    "len(df)"
   ]
  },
  {
   "cell_type": "code",
   "execution_count": 9,
   "id": "afd757bd",
   "metadata": {},
   "outputs": [
    {
     "data": {
      "text/plain": [
       "4200172"
      ]
     },
     "execution_count": 9,
     "metadata": {},
     "output_type": "execute_result"
    }
   ],
   "source": [
    "#Checking Size of Big & Small df combined\n",
    "len(big)+len(small)"
   ]
  },
  {
   "cell_type": "code",
   "execution_count": 11,
   "id": "26d3e9bd",
   "metadata": {},
   "outputs": [],
   "source": [
    "#Reduce samples to only columns necessary for the chart\n",
    "\n",
    "df_small = small[['loan_amount','jobs_reported']]"
   ]
  },
  {
   "cell_type": "markdown",
   "id": "d5c7697c",
   "metadata": {},
   "source": [
    "# 04. Data Prep for Regression Analysis"
   ]
  },
  {
   "cell_type": "code",
   "execution_count": 14,
   "id": "1fe24bca",
   "metadata": {},
   "outputs": [
    {
     "data": {
      "image/png": "[encoded data removed]",
      "text/plain": [
       "<Figure size 432x288 with 1 Axes>"
      ]
     },
     "metadata": {
      "needs_background": "light"
     },
     "output_type": "display_data"
    }
   ],
   "source": [
    "# Create a scatterplot using matplotlib for another look at how the chosen variables plot against each other.\n",
    "\n",
    "df_2.plot(x = 'loan_amount', y='jobs_reported',style='o') # The style option creates a scatterplot; without it, we only have lines.\n",
    "plt.title('Loan Amount vs Jobs Reported')  \n",
    "plt.xlabel('Loan Amount')  \n",
    "plt.ylabel('Jobs Reported')  \n",
    "plt.show()"
   ]
  },
  {
   "cell_type": "markdown",
   "id": "438e300b",
   "metadata": {},
   "source": [
    "## Hypothesis: As the loan amount increases, the number of jobs reported will also increase."
   ]
  },
  {
   "cell_type": "code",
   "execution_count": 17,
   "id": "e17951b1",
   "metadata": {},
   "outputs": [],
   "source": [
    "# Reshape the variables into NumPy arrays and put them into separate objects.\n",
    "\n",
    "X = df_2['loan_amount'].values.reshape(-1,1)\n",
    "y = df_2['jobs_reported'].values.reshape(-1,1)"
   ]
  },
  {
   "cell_type": "code",
   "execution_count": 18,
   "id": "6d2e1b37",
   "metadata": {},
   "outputs": [
    {
     "data": {
      "text/plain": [
       "array([[1.49992e+05],\n",
       "       [1.49975e+05],\n",
       "       [1.49950e+05],\n",
       "       ...,\n",
       "       [5.00000e+02],\n",
       "       [4.17070e+02],\n",
       "       [1.41000e+02]])"
      ]
     },
     "execution_count": 18,
     "metadata": {},
     "output_type": "execute_result"
    }
   ],
   "source": [
    "X"
   ]
  },
  {
   "cell_type": "code",
   "execution_count": 19,
   "id": "6b5f95d6",
   "metadata": {},
   "outputs": [
    {
     "data": {
      "text/plain": [
       "array([[11.],\n",
       "       [ 6.],\n",
       "       [10.],\n",
       "       ...,\n",
       "       [13.],\n",
       "       [ 1.],\n",
       "       [ 1.]])"
      ]
     },
     "execution_count": 19,
     "metadata": {},
     "output_type": "execute_result"
    }
   ],
   "source": [
    "y"
   ]
  },
  {
   "cell_type": "code",
   "execution_count": 20,
   "id": "2687142e",
   "metadata": {},
   "outputs": [],
   "source": [
    "# Split data into a training set and a test set.\n",
    "\n",
    "X_train, X_test, y_train, y_test = train_test_split(X, y, test_size=0.3, random_state=0)"
   ]
  },
  {
   "cell_type": "markdown",
   "id": "d782aaf6",
   "metadata": {},
   "source": [
    "# 05. Regression Analysis"
   ]
  },
  {
   "cell_type": "code",
   "execution_count": 21,
   "id": "8bfa0156",
   "metadata": {},
   "outputs": [],
   "source": [
    "# Create a regression object.\n",
    "\n",
    "regression = LinearRegression()  # This is the regression object, which will be fit onto the training set."
   ]
  },
  {
   "cell_type": "code",
   "execution_count": 22,
   "id": "e5bc814d",
   "metadata": {},
   "outputs": [
    {
     "data": {
      "text/plain": [
       "LinearRegression()"
      ]
     },
     "execution_count": 22,
     "metadata": {},
     "output_type": "execute_result"
    }
   ],
   "source": [
    "# Fit the regression object onto the training set.\n",
    "\n",
    "regression.fit(X_train, y_train)"
   ]
  },
  {
   "cell_type": "code",
   "execution_count": 23,
   "id": "0d031c48",
   "metadata": {},
   "outputs": [],
   "source": [
    "# Predict the values of y using X.\n",
    "\n",
    "y_predicted = regression.predict(X_test)"
   ]
  },
  {
   "cell_type": "code",
   "execution_count": 24,
   "id": "18a27703",
   "metadata": {},
   "outputs": [
    {
     "data": {
      "image/png": "[encoded data removed]",
      "text/plain": [
       "<Figure size 432x288 with 1 Axes>"
      ]
     },
     "metadata": {
      "needs_background": "light"
     },
     "output_type": "display_data"
    }
   ],
   "source": [
    "# Create a plot that shows the regression line from the model on the test set.\n",
    "\n",
    "plot_test = plt\n",
    "plot_test.scatter(X_test, y_test, color='gray', s = 15)\n",
    "plot_test.plot(X_test, y_predicted, color='pink', linewidth =3)\n",
    "plot_test.title('Loan Amount vs Jobs Reported (Test set)')\n",
    "plot_test.xlabel('Loan Amount')\n",
    "plot_test.ylabel('Jobs Reported')\n",
    "plot_test.show()"
   ]
  },
  {
   "cell_type": "markdown",
   "id": "811b2634",
   "metadata": {},
   "source": [
    "### Interpretation: \n",
    "\n",
    "While there is a small, positive linear relationship between loan amount & jobs reported, a lot of outliers are present and this scatterplot is based on only a small portion (30%) of the data. These facts lead me to say that the line does not fit the data that well. "
   ]
  },
  {
   "cell_type": "code",
   "execution_count": 25,
   "id": "4f8bf576",
   "metadata": {},
   "outputs": [],
   "source": [
    "# Create objects that contain the model summary statistics.\n",
    "\n",
    "rmse = mean_squared_error(y_test, y_predicted) # This is the mean squared error\n",
    "r2 = r2_score(y_test, y_predicted) # This is the R2 score. "
   ]
  },
  {
   "cell_type": "code",
   "execution_count": 26,
   "id": "586e10a3",
   "metadata": {},
   "outputs": [
    {
     "name": "stdout",
     "output_type": "stream",
     "text": [
      "Slope: [[0.00011193]]\n",
      "Mean squared error:  78.24919256637263\n",
      "R2 score:  0.14649486284792512\n"
     ]
    }
   ],
   "source": [
    "# Print the model summary statistics. This is where you evaluate the performance of the model.\n",
    "\n",
    "print('Slope:' ,regression.coef_)\n",
    "print('Mean squared error: ', rmse)\n",
    "print('R2 score: ', r2)"
   ]
  },
  {
   "cell_type": "code",
   "execution_count": 27,
   "id": "f2f2bf08",
   "metadata": {},
   "outputs": [
    {
     "data": {
      "text/plain": [
       "array([[5.56221629],\n",
       "       [2.38975409],\n",
       "       [1.53380515],\n",
       "       ...,\n",
       "       [2.78297347],\n",
       "       [4.44198878],\n",
       "       [6.07827056]])"
      ]
     },
     "execution_count": 27,
     "metadata": {},
     "output_type": "execute_result"
    }
   ],
   "source": [
    "y_predicted"
   ]
  },
  {
   "cell_type": "code",
   "execution_count": 28,
   "id": "74a13465",
   "metadata": {},
   "outputs": [],
   "source": [
    "# Create a dataframe comparing the actual and predicted values of y.\n",
    "\n",
    "data = pd.DataFrame({'Actual': y_test.flatten(), 'Predicted': y_predicted.flatten()})"
   ]
  },
  {
   "cell_type": "code",
   "execution_count": 29,
   "id": "dc62ddbb",
   "metadata": {},
   "outputs": [
    {
     "data": {
      "text/html": [
       "<div>\n",
       "<style scoped>\n",
       "    .dataframe tbody tr th:only-of-type {\n",
       "        vertical-align: middle;\n",
       "    }\n",
       "\n",
       "    .dataframe tbody tr th {\n",
       "        vertical-align: top;\n",
       "    }\n",
       "\n",
       "    .dataframe thead th {\n",
       "        text-align: right;\n",
       "    }\n",
       "</style>\n",
       "<table border=\"1\" class=\"dataframe\">\n",
       "  <thead>\n",
       "    <tr style=\"text-align: right;\">\n",
       "      <th></th>\n",
       "      <th>Actual</th>\n",
       "      <th>Predicted</th>\n",
       "    </tr>\n",
       "  </thead>\n",
       "  <tbody>\n",
       "    <tr>\n",
       "      <th>0</th>\n",
       "      <td>7.0</td>\n",
       "      <td>5.562216</td>\n",
       "    </tr>\n",
       "    <tr>\n",
       "      <th>1</th>\n",
       "      <td>1.0</td>\n",
       "      <td>2.389754</td>\n",
       "    </tr>\n",
       "    <tr>\n",
       "      <th>2</th>\n",
       "      <td>1.0</td>\n",
       "      <td>1.533805</td>\n",
       "    </tr>\n",
       "    <tr>\n",
       "      <th>3</th>\n",
       "      <td>1.0</td>\n",
       "      <td>1.188269</td>\n",
       "    </tr>\n",
       "    <tr>\n",
       "      <th>4</th>\n",
       "      <td>1.0</td>\n",
       "      <td>2.941806</td>\n",
       "    </tr>\n",
       "    <tr>\n",
       "      <th>5</th>\n",
       "      <td>4.0</td>\n",
       "      <td>2.007280</td>\n",
       "    </tr>\n",
       "    <tr>\n",
       "      <th>6</th>\n",
       "      <td>5.0</td>\n",
       "      <td>4.085869</td>\n",
       "    </tr>\n",
       "    <tr>\n",
       "      <th>7</th>\n",
       "      <td>1.0</td>\n",
       "      <td>1.521577</td>\n",
       "    </tr>\n",
       "    <tr>\n",
       "      <th>8</th>\n",
       "      <td>0.0</td>\n",
       "      <td>2.792376</td>\n",
       "    </tr>\n",
       "    <tr>\n",
       "      <th>9</th>\n",
       "      <td>2.0</td>\n",
       "      <td>6.839413</td>\n",
       "    </tr>\n",
       "    <tr>\n",
       "      <th>10</th>\n",
       "      <td>7.0</td>\n",
       "      <td>7.690101</td>\n",
       "    </tr>\n",
       "    <tr>\n",
       "      <th>11</th>\n",
       "      <td>3.0</td>\n",
       "      <td>2.838604</td>\n",
       "    </tr>\n",
       "    <tr>\n",
       "      <th>12</th>\n",
       "      <td>3.0</td>\n",
       "      <td>5.587110</td>\n",
       "    </tr>\n",
       "    <tr>\n",
       "      <th>13</th>\n",
       "      <td>1.0</td>\n",
       "      <td>2.662086</td>\n",
       "    </tr>\n",
       "    <tr>\n",
       "      <th>14</th>\n",
       "      <td>8.0</td>\n",
       "      <td>2.003922</td>\n",
       "    </tr>\n",
       "    <tr>\n",
       "      <th>15</th>\n",
       "      <td>2.0</td>\n",
       "      <td>3.243241</td>\n",
       "    </tr>\n",
       "    <tr>\n",
       "      <th>16</th>\n",
       "      <td>5.0</td>\n",
       "      <td>5.753666</td>\n",
       "    </tr>\n",
       "    <tr>\n",
       "      <th>17</th>\n",
       "      <td>1.0</td>\n",
       "      <td>3.271000</td>\n",
       "    </tr>\n",
       "    <tr>\n",
       "      <th>18</th>\n",
       "      <td>11.0</td>\n",
       "      <td>4.108256</td>\n",
       "    </tr>\n",
       "    <tr>\n",
       "      <th>19</th>\n",
       "      <td>5.0</td>\n",
       "      <td>5.376789</td>\n",
       "    </tr>\n",
       "    <tr>\n",
       "      <th>20</th>\n",
       "      <td>3.0</td>\n",
       "      <td>1.734058</td>\n",
       "    </tr>\n",
       "    <tr>\n",
       "      <th>21</th>\n",
       "      <td>1.0</td>\n",
       "      <td>1.830986</td>\n",
       "    </tr>\n",
       "    <tr>\n",
       "      <th>22</th>\n",
       "      <td>10.0</td>\n",
       "      <td>11.413092</td>\n",
       "    </tr>\n",
       "    <tr>\n",
       "      <th>23</th>\n",
       "      <td>2.0</td>\n",
       "      <td>1.897586</td>\n",
       "    </tr>\n",
       "    <tr>\n",
       "      <th>24</th>\n",
       "      <td>5.0</td>\n",
       "      <td>7.701294</td>\n",
       "    </tr>\n",
       "    <tr>\n",
       "      <th>25</th>\n",
       "      <td>0.0</td>\n",
       "      <td>4.220189</td>\n",
       "    </tr>\n",
       "    <tr>\n",
       "      <th>26</th>\n",
       "      <td>0.0</td>\n",
       "      <td>2.241866</td>\n",
       "    </tr>\n",
       "    <tr>\n",
       "      <th>27</th>\n",
       "      <td>5.0</td>\n",
       "      <td>8.941373</td>\n",
       "    </tr>\n",
       "    <tr>\n",
       "      <th>28</th>\n",
       "      <td>1.0</td>\n",
       "      <td>3.306035</td>\n",
       "    </tr>\n",
       "    <tr>\n",
       "      <th>29</th>\n",
       "      <td>5.0</td>\n",
       "      <td>7.447431</td>\n",
       "    </tr>\n",
       "  </tbody>\n",
       "</table>\n",
       "</div>"
      ],
      "text/plain": [
       "    Actual  Predicted\n",
       "0      7.0   5.562216\n",
       "1      1.0   2.389754\n",
       "2      1.0   1.533805\n",
       "3      1.0   1.188269\n",
       "4      1.0   2.941806\n",
       "5      4.0   2.007280\n",
       "6      5.0   4.085869\n",
       "7      1.0   1.521577\n",
       "8      0.0   2.792376\n",
       "9      2.0   6.839413\n",
       "10     7.0   7.690101\n",
       "11     3.0   2.838604\n",
       "12     3.0   5.587110\n",
       "13     1.0   2.662086\n",
       "14     8.0   2.003922\n",
       "15     2.0   3.243241\n",
       "16     5.0   5.753666\n",
       "17     1.0   3.271000\n",
       "18    11.0   4.108256\n",
       "19     5.0   5.376789\n",
       "20     3.0   1.734058\n",
       "21     1.0   1.830986\n",
       "22    10.0  11.413092\n",
       "23     2.0   1.897586\n",
       "24     5.0   7.701294\n",
       "25     0.0   4.220189\n",
       "26     0.0   2.241866\n",
       "27     5.0   8.941373\n",
       "28     1.0   3.306035\n",
       "29     5.0   7.447431"
      ]
     },
     "execution_count": 29,
     "metadata": {},
     "output_type": "execute_result"
    }
   ],
   "source": [
    "data.head(30)"
   ]
  },
  {
   "cell_type": "markdown",
   "id": "0994cb37",
   "metadata": {},
   "source": [
    "### Compare how the regression fits the training set"
   ]
  },
  {
   "cell_type": "code",
   "execution_count": 30,
   "id": "b08daf3b",
   "metadata": {},
   "outputs": [],
   "source": [
    "# Predict \n",
    "\n",
    "y_predicted_train = regression.predict(X_train) # This is predicting X-train"
   ]
  },
  {
   "cell_type": "code",
   "execution_count": 31,
   "id": "8c0b9bf6",
   "metadata": {},
   "outputs": [],
   "source": [
    "rmse = mean_squared_error(y_train, y_predicted_train)\n",
    "r2 = r2_score(y_train, y_predicted_train)"
   ]
  },
  {
   "cell_type": "code",
   "execution_count": 32,
   "id": "ef7aa314",
   "metadata": {},
   "outputs": [
    {
     "name": "stdout",
     "output_type": "stream",
     "text": [
      "Slope: [[0.00011193]]\n",
      "Mean squared error:  81.91712656975623\n",
      "R2 score:  0.14189084947157682\n"
     ]
    }
   ],
   "source": [
    "print('Slope:' ,regression.coef_)\n",
    "print('Mean squared error: ', rmse)\n",
    "print('R2 score: ', r2)"
   ]
  },
  {
   "cell_type": "code",
   "execution_count": 34,
   "id": "81562abc",
   "metadata": {},
   "outputs": [
    {
     "data": {
      "image/png": "[encoded data removed]",
      "text/plain": [
       "<Figure size 432x288 with 1 Axes>"
      ]
     },
     "metadata": {
      "needs_background": "light"
     },
     "output_type": "display_data"
    }
   ],
   "source": [
    "# Visualizing the training set results.\n",
    "\n",
    "plot_test = plt\n",
    "plot_test.scatter(X_train, y_train, color='gray', s = 15)\n",
    "plot_test.plot(X_train, y_predicted_train, color='pink', linewidth =3)\n",
    "plot_test.title('Loan Amount vs Jobs Reported (Test set)')\n",
    "plot_test.xlabel('Loan Amount ')\n",
    "plot_test.ylabel('Jobs Reported')\n",
    "plot_test.show()"
   ]
  },
  {
   "cell_type": "markdown",
   "id": "9ca749ea",
   "metadata": {},
   "source": [
    "### How Well the Model Performed: \n",
    "\n",
    "This model is not effective. Both the high mean squared error (81.9, showing that the regression line passes pretty far from the observations) & the low R2 score (0.14, indicating a poor explaination of the variance) confirms the ineffectiveness. While there may be a slight relationship between loan amounts & jobs reported, there are clearly other factors at play."
   ]
  }
 ],
 "metadata": {
  "kernelspec": {
   "display_name": "Python 3",
   "language": "python",
   "name": "python3"
  },
  "language_info": {
   "codemirror_mode": {
    "name": "ipython",
    "version": 3
   },
   "file_extension": ".py",
   "mimetype": "text/x-python",
   "name": "python",
   "nbconvert_exporter": "python",
   "pygments_lexer": "ipython3",
   "version": "3.8.10"
  }
 },
 "nbformat": 4,
 "nbformat_minor": 5
}
