{
 "cells": [
  {
   "cell_type": "markdown",
   "metadata": {},
   "source": [
    "# CONTENT LIST"
   ]
  },
  {
   "cell_type": "markdown",
   "metadata": {},
   "source": [
    "1. Importing Libraries\n",
    "2. Importing Datasets (Industry, PPP & Zipcode)\n",
    "\n",
    "3. Industry Dataset - Cleaning Data\n",
    "4. PPP Dataset - Cleaning Data\n",
    "5. Zipcode Dataset - Cleaning Data\n",
    "\n",
    "6. Industry Dataset - Understanding Data\n",
    "7. PPP Dataset - Understanding Data\n",
    "8. Zipcode Dataset - Understanding Data"
   ]
  },
  {
   "cell_type": "markdown",
   "metadata": {},
   "source": [
    "## 01. Importing Libraries"
   ]
  },
  {
   "cell_type": "code",
   "execution_count": 1,
   "metadata": {},
   "outputs": [],
   "source": [
    "#Import Libraries\n",
    "import pandas as pd\n",
    "import numpy as np\n",
    "import os"
   ]
  },
  {
   "cell_type": "markdown",
   "metadata": {},
   "source": [
    "## 02. Importing Data"
   ]
  },
  {
   "cell_type": "code",
   "execution_count": 2,
   "metadata": {},
   "outputs": [],
   "source": [
    "#Create Path\n",
    "path = r'C:\\Users\\chery\\Desktop\\CareerFoundry\\Immersion Data Analytics\\Achievement 6\\04-2021 PPP Loan Analysis\\02 Data'"
   ]
  },
  {
   "cell_type": "code",
   "execution_count": 3,
   "metadata": {},
   "outputs": [],
   "source": [
    "#Importing 'nacis' Industry Data\n",
    "df_industry = pd.read_csv(os.path.join(path, 'Original Data', 'naics_6.csv'), index_col = False)"
   ]
  },
  {
   "cell_type": "code",
   "execution_count": 4,
   "metadata": {},
   "outputs": [],
   "source": [
    "#Importing 'ppp laon data'\n",
    "df_ppp = pd.read_csv(os.path.join(path, 'Original Data', 'ppp_loan_data.csv'), index_col = False)"
   ]
  },
  {
   "cell_type": "code",
   "execution_count": 5,
   "metadata": {},
   "outputs": [],
   "source": [
    "#Importing 'zip code' Data\n",
    "df_zip = pd.read_csv(os.path.join(path, 'Original Data', 'zip_county_crosswalk.csv'), index_col = False)"
   ]
  },
  {
   "cell_type": "markdown",
   "metadata": {},
   "source": [
    "## 03. Industry Dataset - Cleaning Data"
   ]
  },
  {
   "cell_type": "code",
   "execution_count": 6,
   "metadata": {},
   "outputs": [
    {
     "data": {
      "text/html": [
       "<div>\n",
       "<style scoped>\n",
       "    .dataframe tbody tr th:only-of-type {\n",
       "        vertical-align: middle;\n",
       "    }\n",
       "\n",
       "    .dataframe tbody tr th {\n",
       "        vertical-align: top;\n",
       "    }\n",
       "\n",
       "    .dataframe thead th {\n",
       "        text-align: right;\n",
       "    }\n",
       "</style>\n",
       "<table border=\"1\" class=\"dataframe\">\n",
       "  <thead>\n",
       "    <tr style=\"text-align: right;\">\n",
       "      <th></th>\n",
       "      <th>industry_code</th>\n",
       "      <th>industry_title</th>\n",
       "    </tr>\n",
       "  </thead>\n",
       "  <tbody>\n",
       "    <tr>\n",
       "      <th>0</th>\n",
       "      <td>111110</td>\n",
       "      <td>NAICS 111110 Soybean farming</td>\n",
       "    </tr>\n",
       "    <tr>\n",
       "      <th>1</th>\n",
       "      <td>111120</td>\n",
       "      <td>NAICS 111120 Oilseed, except soybean, farming</td>\n",
       "    </tr>\n",
       "    <tr>\n",
       "      <th>2</th>\n",
       "      <td>111130</td>\n",
       "      <td>NAICS 111130 Dry pea and bean farming</td>\n",
       "    </tr>\n",
       "    <tr>\n",
       "      <th>3</th>\n",
       "      <td>111140</td>\n",
       "      <td>NAICS 111140 Wheat farming</td>\n",
       "    </tr>\n",
       "    <tr>\n",
       "      <th>4</th>\n",
       "      <td>111150</td>\n",
       "      <td>NAICS 111150 Corn farming</td>\n",
       "    </tr>\n",
       "  </tbody>\n",
       "</table>\n",
       "</div>"
      ],
      "text/plain": [
       "   industry_code                                 industry_title\n",
       "0         111110                   NAICS 111110 Soybean farming\n",
       "1         111120  NAICS 111120 Oilseed, except soybean, farming\n",
       "2         111130          NAICS 111130 Dry pea and bean farming\n",
       "3         111140                     NAICS 111140 Wheat farming\n",
       "4         111150                      NAICS 111150 Corn farming"
      ]
     },
     "execution_count": 6,
     "metadata": {},
     "output_type": "execute_result"
    }
   ],
   "source": [
    "#View first five rows of data\n",
    "df_industry.head()"
   ]
  },
  {
   "cell_type": "code",
   "execution_count": 7,
   "metadata": {},
   "outputs": [
    {
     "data": {
      "text/plain": [
       "(1301, 2)"
      ]
     },
     "execution_count": 7,
     "metadata": {},
     "output_type": "execute_result"
    }
   ],
   "source": [
    "#Basic info\n",
    "df_industry.shape"
   ]
  },
  {
   "cell_type": "code",
   "execution_count": 8,
   "metadata": {},
   "outputs": [
    {
     "data": {
      "text/plain": [
       "industry_code      int64\n",
       "industry_title    object\n",
       "dtype: object"
      ]
     },
     "execution_count": 8,
     "metadata": {},
     "output_type": "execute_result"
    }
   ],
   "source": [
    "#View data type of industry code\n",
    "df_industry.dtypes"
   ]
  },
  {
   "cell_type": "markdown",
   "metadata": {},
   "source": [
    "### Data Types"
   ]
  },
  {
   "cell_type": "code",
   "execution_count": 9,
   "metadata": {},
   "outputs": [],
   "source": [
    "#Change data type of industry code from Numeric to String\n",
    "df_industry['industry_code'] = df_industry['industry_code'].astype('str')"
   ]
  },
  {
   "cell_type": "code",
   "execution_count": 10,
   "metadata": {},
   "outputs": [
    {
     "data": {
      "text/plain": [
       "dtype('O')"
      ]
     },
     "execution_count": 10,
     "metadata": {},
     "output_type": "execute_result"
    }
   ],
   "source": [
    "#Confirm data type Changed\n",
    "df_industry['industry_code'].dtype"
   ]
  },
  {
   "cell_type": "code",
   "execution_count": 11,
   "metadata": {},
   "outputs": [],
   "source": [
    "#Check for mixed types\n",
    "\n",
    "for col in df_industry.columns.tolist():\n",
    "  weird = (df_industry[[col]].applymap(type) != df_industry[[col]].iloc[0].apply(type)).any(axis = 1)\n",
    "  if len (df_industry[weird]) > 0:\n",
    "    print (col)"
   ]
  },
  {
   "cell_type": "markdown",
   "metadata": {},
   "source": [
    "No output = no mixed types"
   ]
  },
  {
   "cell_type": "markdown",
   "metadata": {},
   "source": [
    "### Missing Data"
   ]
  },
  {
   "cell_type": "code",
   "execution_count": 12,
   "metadata": {},
   "outputs": [
    {
     "data": {
      "text/plain": [
       "industry_code     0\n",
       "industry_title    0\n",
       "dtype: int64"
      ]
     },
     "execution_count": 12,
     "metadata": {},
     "output_type": "execute_result"
    }
   ],
   "source": [
    "#Check for Missing data\n",
    "\n",
    "df_industry.isnull().sum()"
   ]
  },
  {
   "cell_type": "markdown",
   "metadata": {},
   "source": [
    "No missing data"
   ]
  },
  {
   "cell_type": "markdown",
   "metadata": {},
   "source": [
    "### Duplicate Data"
   ]
  },
  {
   "cell_type": "code",
   "execution_count": 13,
   "metadata": {},
   "outputs": [],
   "source": [
    "#Create new subset with only duplicate rows\n",
    "df_industry_dups = df_industry[df_industry.duplicated()]"
   ]
  },
  {
   "cell_type": "code",
   "execution_count": 14,
   "metadata": {},
   "outputs": [
    {
     "data": {
      "text/html": [
       "<div>\n",
       "<style scoped>\n",
       "    .dataframe tbody tr th:only-of-type {\n",
       "        vertical-align: middle;\n",
       "    }\n",
       "\n",
       "    .dataframe tbody tr th {\n",
       "        vertical-align: top;\n",
       "    }\n",
       "\n",
       "    .dataframe thead th {\n",
       "        text-align: right;\n",
       "    }\n",
       "</style>\n",
       "<table border=\"1\" class=\"dataframe\">\n",
       "  <thead>\n",
       "    <tr style=\"text-align: right;\">\n",
       "      <th></th>\n",
       "      <th>industry_code</th>\n",
       "      <th>industry_title</th>\n",
       "    </tr>\n",
       "  </thead>\n",
       "  <tbody>\n",
       "  </tbody>\n",
       "</table>\n",
       "</div>"
      ],
      "text/plain": [
       "Empty DataFrame\n",
       "Columns: [industry_code, industry_title]\n",
       "Index: []"
      ]
     },
     "execution_count": 14,
     "metadata": {},
     "output_type": "execute_result"
    }
   ],
   "source": [
    "#View subset \n",
    "df_industry_dups"
   ]
  },
  {
   "cell_type": "markdown",
   "metadata": {},
   "source": [
    "No duplicate data"
   ]
  },
  {
   "cell_type": "markdown",
   "metadata": {},
   "source": [
    "## 04. PPP Dataset - Cleaning Data"
   ]
  },
  {
   "cell_type": "code",
   "execution_count": 15,
   "metadata": {},
   "outputs": [
    {
     "data": {
      "text/html": [
       "<div>\n",
       "<style scoped>\n",
       "    .dataframe tbody tr th:only-of-type {\n",
       "        vertical-align: middle;\n",
       "    }\n",
       "\n",
       "    .dataframe tbody tr th {\n",
       "        vertical-align: top;\n",
       "    }\n",
       "\n",
       "    .dataframe thead th {\n",
       "        text-align: right;\n",
       "    }\n",
       "</style>\n",
       "<table border=\"1\" class=\"dataframe\">\n",
       "  <thead>\n",
       "    <tr style=\"text-align: right;\">\n",
       "      <th></th>\n",
       "      <th>loanamount</th>\n",
       "      <th>city</th>\n",
       "      <th>state</th>\n",
       "      <th>zip</th>\n",
       "      <th>naicscode</th>\n",
       "      <th>businesstype</th>\n",
       "      <th>raceethnicity</th>\n",
       "      <th>gender</th>\n",
       "      <th>veteran</th>\n",
       "      <th>jobsreported</th>\n",
       "      <th>dateapproved</th>\n",
       "      <th>lender</th>\n",
       "      <th>congressionaldistrict</th>\n",
       "    </tr>\n",
       "  </thead>\n",
       "  <tbody>\n",
       "    <tr>\n",
       "      <th>0</th>\n",
       "      <td>149978.0</td>\n",
       "      <td>Pelham</td>\n",
       "      <td>AL</td>\n",
       "      <td>35124.0</td>\n",
       "      <td>561311.0</td>\n",
       "      <td>Limited  Liability Company(LLC)</td>\n",
       "      <td>NaN</td>\n",
       "      <td>NaN</td>\n",
       "      <td>NaN</td>\n",
       "      <td>17.0</td>\n",
       "      <td>05/07/2020</td>\n",
       "      <td>Truist Bank d/b/a Branch Banking &amp; Trust Co</td>\n",
       "      <td>AL-06</td>\n",
       "    </tr>\n",
       "    <tr>\n",
       "      <th>1</th>\n",
       "      <td>149900.0</td>\n",
       "      <td>Birmingham</td>\n",
       "      <td>AL</td>\n",
       "      <td>35242.0</td>\n",
       "      <td>561311.0</td>\n",
       "      <td>Corporation</td>\n",
       "      <td>NaN</td>\n",
       "      <td>Female Owned</td>\n",
       "      <td>NaN</td>\n",
       "      <td>39.0</td>\n",
       "      <td>04/13/2020</td>\n",
       "      <td>Peoples Bank of Alabama</td>\n",
       "      <td>AL-06</td>\n",
       "    </tr>\n",
       "    <tr>\n",
       "      <th>2</th>\n",
       "      <td>149887.0</td>\n",
       "      <td>Trussville</td>\n",
       "      <td>AL</td>\n",
       "      <td>35173.0</td>\n",
       "      <td>238910.0</td>\n",
       "      <td>Limited  Liability Company(LLC)</td>\n",
       "      <td>NaN</td>\n",
       "      <td>NaN</td>\n",
       "      <td>NaN</td>\n",
       "      <td>14.0</td>\n",
       "      <td>04/15/2020</td>\n",
       "      <td>Bryant Bank</td>\n",
       "      <td>AL-06</td>\n",
       "    </tr>\n",
       "    <tr>\n",
       "      <th>3</th>\n",
       "      <td>149865.0</td>\n",
       "      <td>Trussville</td>\n",
       "      <td>AL</td>\n",
       "      <td>35173.0</td>\n",
       "      <td>621340.0</td>\n",
       "      <td>Self-Employed Individuals</td>\n",
       "      <td>NaN</td>\n",
       "      <td>NaN</td>\n",
       "      <td>NaN</td>\n",
       "      <td>0.0</td>\n",
       "      <td>04/30/2020</td>\n",
       "      <td>Regions Bank</td>\n",
       "      <td>AL-06</td>\n",
       "    </tr>\n",
       "    <tr>\n",
       "      <th>4</th>\n",
       "      <td>149862.0</td>\n",
       "      <td>Springville</td>\n",
       "      <td>AL</td>\n",
       "      <td>35146.0</td>\n",
       "      <td>624221.0</td>\n",
       "      <td>Non-Profit Organization</td>\n",
       "      <td>NaN</td>\n",
       "      <td>NaN</td>\n",
       "      <td>NaN</td>\n",
       "      <td>19.0</td>\n",
       "      <td>04/12/2020</td>\n",
       "      <td>South State Bank, National Association</td>\n",
       "      <td>AL-06</td>\n",
       "    </tr>\n",
       "  </tbody>\n",
       "</table>\n",
       "</div>"
      ],
      "text/plain": [
       "   loanamount         city state      zip  naicscode  \\\n",
       "0    149978.0       Pelham    AL  35124.0   561311.0   \n",
       "1    149900.0   Birmingham    AL  35242.0   561311.0   \n",
       "2    149887.0   Trussville    AL  35173.0   238910.0   \n",
       "3    149865.0   Trussville    AL  35173.0   621340.0   \n",
       "4    149862.0  Springville    AL  35146.0   624221.0   \n",
       "\n",
       "                      businesstype raceethnicity        gender veteran  \\\n",
       "0  Limited  Liability Company(LLC)           NaN           NaN     NaN   \n",
       "1                      Corporation           NaN  Female Owned     NaN   \n",
       "2  Limited  Liability Company(LLC)           NaN           NaN     NaN   \n",
       "3        Self-Employed Individuals           NaN           NaN     NaN   \n",
       "4          Non-Profit Organization           NaN           NaN     NaN   \n",
       "\n",
       "   jobsreported dateapproved                                       lender  \\\n",
       "0          17.0   05/07/2020  Truist Bank d/b/a Branch Banking & Trust Co   \n",
       "1          39.0   04/13/2020                      Peoples Bank of Alabama   \n",
       "2          14.0   04/15/2020                                  Bryant Bank   \n",
       "3           0.0   04/30/2020                                 Regions Bank   \n",
       "4          19.0   04/12/2020       South State Bank, National Association   \n",
       "\n",
       "  congressionaldistrict  \n",
       "0                 AL-06  \n",
       "1                 AL-06  \n",
       "2                 AL-06  \n",
       "3                 AL-06  \n",
       "4                 AL-06  "
      ]
     },
     "execution_count": 15,
     "metadata": {},
     "output_type": "execute_result"
    }
   ],
   "source": [
    "#View first five rows of data\n",
    "df_ppp.head()"
   ]
  },
  {
   "cell_type": "code",
   "execution_count": 16,
   "metadata": {},
   "outputs": [
    {
     "data": {
      "text/plain": [
       "(4549613, 13)"
      ]
     },
     "execution_count": 16,
     "metadata": {},
     "output_type": "execute_result"
    }
   ],
   "source": [
    "#Basic info\n",
    "df_ppp.shape"
   ]
  },
  {
   "cell_type": "markdown",
   "metadata": {},
   "source": [
    "### Column Names"
   ]
  },
  {
   "cell_type": "code",
   "execution_count": 17,
   "metadata": {},
   "outputs": [],
   "source": [
    "#Renaming Columns\n",
    "df_ppp.rename(columns = {'loanamount' : 'loan_amount'}, inplace = True)\n",
    "df_ppp.rename(columns = {'naicscode' : 'industry_code'}, inplace = True)\n",
    "df_ppp.rename(columns = {'businesstype' : 'business_type'}, inplace = True)\n",
    "df_ppp.rename(columns = {'raceethnicity' : 'business_owner_race'}, inplace = True)\n",
    "df_ppp.rename(columns = {'gender' : 'business_owner_gender'}, inplace = True)\n",
    "df_ppp.rename(columns = {'veteran' : 'business_owner_vet_status'}, inplace = True)\n",
    "df_ppp.rename(columns = {'jobsreported' : 'jobs_reported'}, inplace = True)\n",
    "df_ppp.rename(columns = {'dateapproved' : 'date_loan_approved'}, inplace = True)\n",
    "df_ppp.rename(columns = {'congressionaldistrict' : 'congressional_district'}, inplace = True)"
   ]
  },
  {
   "cell_type": "code",
   "execution_count": 18,
   "metadata": {},
   "outputs": [
    {
     "data": {
      "text/html": [
       "<div>\n",
       "<style scoped>\n",
       "    .dataframe tbody tr th:only-of-type {\n",
       "        vertical-align: middle;\n",
       "    }\n",
       "\n",
       "    .dataframe tbody tr th {\n",
       "        vertical-align: top;\n",
       "    }\n",
       "\n",
       "    .dataframe thead th {\n",
       "        text-align: right;\n",
       "    }\n",
       "</style>\n",
       "<table border=\"1\" class=\"dataframe\">\n",
       "  <thead>\n",
       "    <tr style=\"text-align: right;\">\n",
       "      <th></th>\n",
       "      <th>loan_amount</th>\n",
       "      <th>city</th>\n",
       "      <th>state</th>\n",
       "      <th>zip</th>\n",
       "      <th>industry_code</th>\n",
       "      <th>business_type</th>\n",
       "      <th>business_owner_race</th>\n",
       "      <th>business_owner_gender</th>\n",
       "      <th>business_owner_vet_status</th>\n",
       "      <th>jobs_reported</th>\n",
       "      <th>date_loan_approved</th>\n",
       "      <th>lender</th>\n",
       "      <th>congressional_district</th>\n",
       "    </tr>\n",
       "  </thead>\n",
       "  <tbody>\n",
       "    <tr>\n",
       "      <th>0</th>\n",
       "      <td>149978.0</td>\n",
       "      <td>Pelham</td>\n",
       "      <td>AL</td>\n",
       "      <td>35124.0</td>\n",
       "      <td>561311.0</td>\n",
       "      <td>Limited  Liability Company(LLC)</td>\n",
       "      <td>NaN</td>\n",
       "      <td>NaN</td>\n",
       "      <td>NaN</td>\n",
       "      <td>17.0</td>\n",
       "      <td>05/07/2020</td>\n",
       "      <td>Truist Bank d/b/a Branch Banking &amp; Trust Co</td>\n",
       "      <td>AL-06</td>\n",
       "    </tr>\n",
       "    <tr>\n",
       "      <th>1</th>\n",
       "      <td>149900.0</td>\n",
       "      <td>Birmingham</td>\n",
       "      <td>AL</td>\n",
       "      <td>35242.0</td>\n",
       "      <td>561311.0</td>\n",
       "      <td>Corporation</td>\n",
       "      <td>NaN</td>\n",
       "      <td>Female Owned</td>\n",
       "      <td>NaN</td>\n",
       "      <td>39.0</td>\n",
       "      <td>04/13/2020</td>\n",
       "      <td>Peoples Bank of Alabama</td>\n",
       "      <td>AL-06</td>\n",
       "    </tr>\n",
       "    <tr>\n",
       "      <th>2</th>\n",
       "      <td>149887.0</td>\n",
       "      <td>Trussville</td>\n",
       "      <td>AL</td>\n",
       "      <td>35173.0</td>\n",
       "      <td>238910.0</td>\n",
       "      <td>Limited  Liability Company(LLC)</td>\n",
       "      <td>NaN</td>\n",
       "      <td>NaN</td>\n",
       "      <td>NaN</td>\n",
       "      <td>14.0</td>\n",
       "      <td>04/15/2020</td>\n",
       "      <td>Bryant Bank</td>\n",
       "      <td>AL-06</td>\n",
       "    </tr>\n",
       "    <tr>\n",
       "      <th>3</th>\n",
       "      <td>149865.0</td>\n",
       "      <td>Trussville</td>\n",
       "      <td>AL</td>\n",
       "      <td>35173.0</td>\n",
       "      <td>621340.0</td>\n",
       "      <td>Self-Employed Individuals</td>\n",
       "      <td>NaN</td>\n",
       "      <td>NaN</td>\n",
       "      <td>NaN</td>\n",
       "      <td>0.0</td>\n",
       "      <td>04/30/2020</td>\n",
       "      <td>Regions Bank</td>\n",
       "      <td>AL-06</td>\n",
       "    </tr>\n",
       "    <tr>\n",
       "      <th>4</th>\n",
       "      <td>149862.0</td>\n",
       "      <td>Springville</td>\n",
       "      <td>AL</td>\n",
       "      <td>35146.0</td>\n",
       "      <td>624221.0</td>\n",
       "      <td>Non-Profit Organization</td>\n",
       "      <td>NaN</td>\n",
       "      <td>NaN</td>\n",
       "      <td>NaN</td>\n",
       "      <td>19.0</td>\n",
       "      <td>04/12/2020</td>\n",
       "      <td>South State Bank, National Association</td>\n",
       "      <td>AL-06</td>\n",
       "    </tr>\n",
       "  </tbody>\n",
       "</table>\n",
       "</div>"
      ],
      "text/plain": [
       "   loan_amount         city state      zip  industry_code  \\\n",
       "0     149978.0       Pelham    AL  35124.0       561311.0   \n",
       "1     149900.0   Birmingham    AL  35242.0       561311.0   \n",
       "2     149887.0   Trussville    AL  35173.0       238910.0   \n",
       "3     149865.0   Trussville    AL  35173.0       621340.0   \n",
       "4     149862.0  Springville    AL  35146.0       624221.0   \n",
       "\n",
       "                     business_type business_owner_race business_owner_gender  \\\n",
       "0  Limited  Liability Company(LLC)                 NaN                   NaN   \n",
       "1                      Corporation                 NaN          Female Owned   \n",
       "2  Limited  Liability Company(LLC)                 NaN                   NaN   \n",
       "3        Self-Employed Individuals                 NaN                   NaN   \n",
       "4          Non-Profit Organization                 NaN                   NaN   \n",
       "\n",
       "  business_owner_vet_status  jobs_reported date_loan_approved  \\\n",
       "0                       NaN           17.0         05/07/2020   \n",
       "1                       NaN           39.0         04/13/2020   \n",
       "2                       NaN           14.0         04/15/2020   \n",
       "3                       NaN            0.0         04/30/2020   \n",
       "4                       NaN           19.0         04/12/2020   \n",
       "\n",
       "                                        lender congressional_district  \n",
       "0  Truist Bank d/b/a Branch Banking & Trust Co                  AL-06  \n",
       "1                      Peoples Bank of Alabama                  AL-06  \n",
       "2                                  Bryant Bank                  AL-06  \n",
       "3                                 Regions Bank                  AL-06  \n",
       "4       South State Bank, National Association                  AL-06  "
      ]
     },
     "execution_count": 18,
     "metadata": {},
     "output_type": "execute_result"
    }
   ],
   "source": [
    "#Check renamed columns\n",
    "df_ppp.head()"
   ]
  },
  {
   "cell_type": "markdown",
   "metadata": {},
   "source": [
    "### Data Types"
   ]
  },
  {
   "cell_type": "code",
   "execution_count": 19,
   "metadata": {},
   "outputs": [
    {
     "data": {
      "text/plain": [
       "loan_amount                  float64\n",
       "city                          object\n",
       "state                         object\n",
       "zip                          float64\n",
       "industry_code                float64\n",
       "business_type                 object\n",
       "business_owner_race           object\n",
       "business_owner_gender         object\n",
       "business_owner_vet_status     object\n",
       "jobs_reported                float64\n",
       "date_loan_approved            object\n",
       "lender                        object\n",
       "congressional_district        object\n",
       "dtype: object"
      ]
     },
     "execution_count": 19,
     "metadata": {},
     "output_type": "execute_result"
    }
   ],
   "source": [
    "#View data type of ppp\n",
    "df_ppp.dtypes"
   ]
  },
  {
   "cell_type": "code",
   "execution_count": 20,
   "metadata": {},
   "outputs": [],
   "source": [
    "#Change data type of industry code from Numeric to String\n",
    "df_ppp['industry_code'] = df_ppp['industry_code'].astype('str')"
   ]
  },
  {
   "cell_type": "code",
   "execution_count": 21,
   "metadata": {},
   "outputs": [],
   "source": [
    "#Change data type of zip code from Numeric to String\n",
    "df_ppp['zip'] = df_ppp['zip'].astype('str')"
   ]
  },
  {
   "cell_type": "code",
   "execution_count": 22,
   "metadata": {},
   "outputs": [
    {
     "data": {
      "text/plain": [
       "loan_amount                  float64\n",
       "city                          object\n",
       "state                         object\n",
       "zip                           object\n",
       "industry_code                 object\n",
       "business_type                 object\n",
       "business_owner_race           object\n",
       "business_owner_gender         object\n",
       "business_owner_vet_status     object\n",
       "jobs_reported                float64\n",
       "date_loan_approved            object\n",
       "lender                        object\n",
       "congressional_district        object\n",
       "dtype: object"
      ]
     },
     "execution_count": 22,
     "metadata": {},
     "output_type": "execute_result"
    }
   ],
   "source": [
    "#Confirm data types Changed\n",
    "df_ppp.dtypes"
   ]
  },
  {
   "cell_type": "code",
   "execution_count": 23,
   "metadata": {},
   "outputs": [
    {
     "name": "stdout",
     "output_type": "stream",
     "text": [
      "city\n",
      "state\n",
      "business_type\n",
      "business_owner_race\n",
      "business_owner_gender\n",
      "business_owner_vet_status\n",
      "congressional_district\n"
     ]
    }
   ],
   "source": [
    "#Check for mixed types\n",
    "\n",
    "for col in df_ppp.columns.tolist():\n",
    "  weird = (df_ppp[[col]].applymap(type) != df_ppp[[col]].iloc[0].apply(type)).any(axis = 1)\n",
    "  if len (df_ppp[weird]) > 0:\n",
    "    print (col)"
   ]
  },
  {
   "cell_type": "code",
   "execution_count": 24,
   "metadata": {},
   "outputs": [],
   "source": [
    "#Change data types of mixed typed columns\n",
    "\n",
    "df_ppp['city'] = df_ppp['city'].astype('object')\n",
    "df_ppp['state'] = df_ppp['state'].astype('object')\n",
    "df_ppp['business_type'] = df_ppp['business_type'].astype('object')\n",
    "df_ppp['business_owner_race'] = df_ppp['business_owner_race'].astype('object')\n",
    "df_ppp['business_owner_gender'] = df_ppp['business_owner_gender'].astype('object')\n",
    "df_ppp['business_owner_vet_status'] = df_ppp['business_owner_vet_status'].astype('object')\n",
    "df_ppp['congressional_district'] = df_ppp['congressional_district'].astype('object')"
   ]
  },
  {
   "cell_type": "markdown",
   "metadata": {},
   "source": [
    "### Missing Values - Remove from Dataset"
   ]
  },
  {
   "cell_type": "code",
   "execution_count": 25,
   "metadata": {},
   "outputs": [
    {
     "data": {
      "text/plain": [
       "loan_amount                        0\n",
       "city                             186\n",
       "state                            149\n",
       "zip                                0\n",
       "industry_code                      0\n",
       "business_type                   3165\n",
       "business_owner_race          4107224\n",
       "business_owner_gender        3624603\n",
       "business_owner_vet_status    3927345\n",
       "jobs_reported                 297998\n",
       "date_loan_approved                 0\n",
       "lender                             0\n",
       "congressional_district           794\n",
       "dtype: int64"
      ]
     },
     "execution_count": 25,
     "metadata": {},
     "output_type": "execute_result"
    }
   ],
   "source": [
    "#Check for Missing data\n",
    "\n",
    "df_ppp.isnull().sum()"
   ]
  },
  {
   "cell_type": "code",
   "execution_count": 26,
   "metadata": {},
   "outputs": [
    {
     "data": {
      "text/plain": [
       "(4549613, 13)"
      ]
     },
     "execution_count": 26,
     "metadata": {},
     "output_type": "execute_result"
    }
   ],
   "source": [
    "df_ppp.shape"
   ]
  },
  {
   "cell_type": "code",
   "execution_count": 27,
   "metadata": {},
   "outputs": [],
   "source": [
    "#Create new df excluding missing 'city' values\n",
    "df_ppp_clean1 = df_ppp[df_ppp['city'].isnull() == False]"
   ]
  },
  {
   "cell_type": "code",
   "execution_count": 28,
   "metadata": {},
   "outputs": [
    {
     "data": {
      "text/plain": [
       "(4549427, 13)"
      ]
     },
     "execution_count": 28,
     "metadata": {},
     "output_type": "execute_result"
    }
   ],
   "source": [
    "df_ppp_clean1.shape"
   ]
  },
  {
   "cell_type": "code",
   "execution_count": 29,
   "metadata": {},
   "outputs": [],
   "source": [
    "#Create new df excluding missing 'state' values\n",
    "df_ppp_clean2 = df_ppp_clean1[df_ppp_clean1['state'].isnull() == False]"
   ]
  },
  {
   "cell_type": "code",
   "execution_count": 30,
   "metadata": {},
   "outputs": [
    {
     "data": {
      "text/plain": [
       "(4549405, 13)"
      ]
     },
     "execution_count": 30,
     "metadata": {},
     "output_type": "execute_result"
    }
   ],
   "source": [
    "df_ppp_clean2.shape"
   ]
  },
  {
   "cell_type": "code",
   "execution_count": 31,
   "metadata": {},
   "outputs": [],
   "source": [
    "#Create new df excluding missing 'zip' values\n",
    "df_ppp_clean3 = df_ppp_clean2[df_ppp_clean2['zip'].isnull() == False]"
   ]
  },
  {
   "cell_type": "code",
   "execution_count": 32,
   "metadata": {},
   "outputs": [
    {
     "data": {
      "text/plain": [
       "(4549405, 13)"
      ]
     },
     "execution_count": 32,
     "metadata": {},
     "output_type": "execute_result"
    }
   ],
   "source": [
    "df_ppp_clean3.shape"
   ]
  },
  {
   "cell_type": "code",
   "execution_count": 33,
   "metadata": {},
   "outputs": [],
   "source": [
    "#Create new df excluding missing 'business_type' values\n",
    "df_ppp_clean4 = df_ppp_clean3[df_ppp_clean3['business_type'].isnull() == False]"
   ]
  },
  {
   "cell_type": "code",
   "execution_count": 34,
   "metadata": {},
   "outputs": [
    {
     "data": {
      "text/plain": [
       "(4546337, 13)"
      ]
     },
     "execution_count": 34,
     "metadata": {},
     "output_type": "execute_result"
    }
   ],
   "source": [
    "df_ppp_clean4.shape"
   ]
  },
  {
   "cell_type": "code",
   "execution_count": 35,
   "metadata": {},
   "outputs": [],
   "source": [
    "#Create new df excluding missing 'congressional_district' values\n",
    "df_ppp_clean5 = df_ppp_clean4[df_ppp_clean4['congressional_district'].isnull() == False]"
   ]
  },
  {
   "cell_type": "code",
   "execution_count": 36,
   "metadata": {},
   "outputs": [
    {
     "data": {
      "text/plain": [
       "(4545789, 13)"
      ]
     },
     "execution_count": 36,
     "metadata": {},
     "output_type": "execute_result"
    }
   ],
   "source": [
    "df_ppp_clean5.shape"
   ]
  },
  {
   "cell_type": "code",
   "execution_count": 37,
   "metadata": {},
   "outputs": [],
   "source": [
    "#Create new df excluding missing 'jobs_reported' values\n",
    "df_ppp_clean6 = df_ppp_clean5 [df_ppp_clean5['jobs_reported'].isnull() == False]"
   ]
  },
  {
   "cell_type": "code",
   "execution_count": 38,
   "metadata": {},
   "outputs": [
    {
     "data": {
      "text/plain": [
       "(4248155, 13)"
      ]
     },
     "execution_count": 38,
     "metadata": {},
     "output_type": "execute_result"
    }
   ],
   "source": [
    "df_ppp_clean6.shape"
   ]
  },
  {
   "cell_type": "code",
   "execution_count": 44,
   "metadata": {},
   "outputs": [
    {
     "data": {
      "text/plain": [
       "loan_amount                        0\n",
       "city                               0\n",
       "state                              0\n",
       "zip                                0\n",
       "industry_code                      0\n",
       "business_type                      0\n",
       "business_owner_race          3817050\n",
       "business_owner_gender        3359297\n",
       "business_owner_vet_status    3652511\n",
       "jobs_reported                      0\n",
       "date_loan_approved                 0\n",
       "lender                             0\n",
       "congressional_district             0\n",
       "dtype: int64"
      ]
     },
     "execution_count": 44,
     "metadata": {},
     "output_type": "execute_result"
    }
   ],
   "source": [
    "#Confirm missing data removed\n",
    "\n",
    "df_ppp_clean6.isnull().sum()"
   ]
  },
  {
   "cell_type": "markdown",
   "metadata": {},
   "source": [
    "### Missing Values - Reviewing Value_Counts"
   ]
  },
  {
   "cell_type": "code",
   "execution_count": 39,
   "metadata": {},
   "outputs": [
    {
     "data": {
      "text/plain": [
       "NaN                                 3817050\n",
       "White                                329014\n",
       "Asian                                 49922\n",
       "Hispanic                              34767\n",
       "Black or African American             15001\n",
       "American Indian or Alaska Native       2236\n",
       "Puerto Rican                            152\n",
       "Multi Group                               8\n",
       "Eskimo & Aleut                            5\n",
       "Name: business_owner_race, dtype: int64"
      ]
     },
     "execution_count": 39,
     "metadata": {},
     "output_type": "execute_result"
    }
   ],
   "source": [
    "#Print frequency of 'business_owner_race' column\n",
    "\n",
    "df_ppp_clean6 ['business_owner_race'].value_counts(dropna = False)"
   ]
  },
  {
   "cell_type": "code",
   "execution_count": 40,
   "metadata": {},
   "outputs": [
    {
     "data": {
      "text/plain": [
       "NaN             3359297\n",
       "Male Owned       672241\n",
       "Female Owned     216617\n",
       "Name: business_owner_gender, dtype: int64"
      ]
     },
     "execution_count": 40,
     "metadata": {},
     "output_type": "execute_result"
    }
   ],
   "source": [
    "#Print frequency of 'business_owner_gender' column\n",
    "\n",
    "df_ppp_clean6 ['business_owner_gender'].value_counts(dropna = False)"
   ]
  },
  {
   "cell_type": "code",
   "execution_count": 41,
   "metadata": {},
   "outputs": [
    {
     "data": {
      "text/plain": [
       "NaN            3652511\n",
       "Non-Veteran     569793\n",
       "Veteran          25851\n",
       "Name: business_owner_vet_status, dtype: int64"
      ]
     },
     "execution_count": 41,
     "metadata": {},
     "output_type": "execute_result"
    }
   ],
   "source": [
    "#Print frequency of 'business_owner_vet_status' column\n",
    "\n",
    "df_ppp_clean6 ['business_owner_vet_status'].value_counts(dropna = False)"
   ]
  },
  {
   "cell_type": "markdown",
   "metadata": {},
   "source": [
    "### Duplicate Data"
   ]
  },
  {
   "cell_type": "code",
   "execution_count": 42,
   "metadata": {},
   "outputs": [],
   "source": [
    "#Create new subset with only duplicate rows\n",
    "df_ppp_clean6_dups = df_ppp_clean6[df_ppp_clean6.duplicated()]"
   ]
  },
  {
   "cell_type": "code",
   "execution_count": 43,
   "metadata": {},
   "outputs": [
    {
     "data": {
      "text/html": [
       "<div>\n",
       "<style scoped>\n",
       "    .dataframe tbody tr th:only-of-type {\n",
       "        vertical-align: middle;\n",
       "    }\n",
       "\n",
       "    .dataframe tbody tr th {\n",
       "        vertical-align: top;\n",
       "    }\n",
       "\n",
       "    .dataframe thead th {\n",
       "        text-align: right;\n",
       "    }\n",
       "</style>\n",
       "<table border=\"1\" class=\"dataframe\">\n",
       "  <thead>\n",
       "    <tr style=\"text-align: right;\">\n",
       "      <th></th>\n",
       "      <th>loan_amount</th>\n",
       "      <th>city</th>\n",
       "      <th>state</th>\n",
       "      <th>zip</th>\n",
       "      <th>industry_code</th>\n",
       "      <th>business_type</th>\n",
       "      <th>business_owner_race</th>\n",
       "      <th>business_owner_gender</th>\n",
       "      <th>business_owner_vet_status</th>\n",
       "      <th>jobs_reported</th>\n",
       "      <th>date_loan_approved</th>\n",
       "      <th>lender</th>\n",
       "      <th>congressional_district</th>\n",
       "    </tr>\n",
       "  </thead>\n",
       "  <tbody>\n",
       "    <tr>\n",
       "      <th>26734</th>\n",
       "      <td>20833.32</td>\n",
       "      <td>Huntsville</td>\n",
       "      <td>AL</td>\n",
       "      <td>35801.0</td>\n",
       "      <td>541110.0</td>\n",
       "      <td>Professional Association</td>\n",
       "      <td>NaN</td>\n",
       "      <td>Male Owned</td>\n",
       "      <td>NaN</td>\n",
       "      <td>1.0</td>\n",
       "      <td>04/10/2020</td>\n",
       "      <td>Progress Bank and Trust</td>\n",
       "      <td>AL-05</td>\n",
       "    </tr>\n",
       "    <tr>\n",
       "      <th>26939</th>\n",
       "      <td>20833.32</td>\n",
       "      <td>Orange Beach</td>\n",
       "      <td>AL</td>\n",
       "      <td>36561.0</td>\n",
       "      <td>531210.0</td>\n",
       "      <td>Sole Proprietorship</td>\n",
       "      <td>NaN</td>\n",
       "      <td>NaN</td>\n",
       "      <td>NaN</td>\n",
       "      <td>1.0</td>\n",
       "      <td>04/15/2020</td>\n",
       "      <td>Centennial Bank</td>\n",
       "      <td>AL-01</td>\n",
       "    </tr>\n",
       "    <tr>\n",
       "      <th>26953</th>\n",
       "      <td>20833.32</td>\n",
       "      <td>Huntsville</td>\n",
       "      <td>AL</td>\n",
       "      <td>35801.0</td>\n",
       "      <td>621111.0</td>\n",
       "      <td>Corporation</td>\n",
       "      <td>NaN</td>\n",
       "      <td>NaN</td>\n",
       "      <td>NaN</td>\n",
       "      <td>1.0</td>\n",
       "      <td>04/09/2020</td>\n",
       "      <td>Progress Bank and Trust</td>\n",
       "      <td>AL-05</td>\n",
       "    </tr>\n",
       "    <tr>\n",
       "      <th>26954</th>\n",
       "      <td>20833.32</td>\n",
       "      <td>Huntsville</td>\n",
       "      <td>AL</td>\n",
       "      <td>35801.0</td>\n",
       "      <td>621111.0</td>\n",
       "      <td>Corporation</td>\n",
       "      <td>NaN</td>\n",
       "      <td>NaN</td>\n",
       "      <td>NaN</td>\n",
       "      <td>1.0</td>\n",
       "      <td>04/09/2020</td>\n",
       "      <td>Progress Bank and Trust</td>\n",
       "      <td>AL-05</td>\n",
       "    </tr>\n",
       "    <tr>\n",
       "      <th>26975</th>\n",
       "      <td>20833.30</td>\n",
       "      <td>Cullman</td>\n",
       "      <td>AL</td>\n",
       "      <td>35055.0</td>\n",
       "      <td>621111.0</td>\n",
       "      <td>Self-Employed Individuals</td>\n",
       "      <td>NaN</td>\n",
       "      <td>Male Owned</td>\n",
       "      <td>NaN</td>\n",
       "      <td>1.0</td>\n",
       "      <td>04/14/2020</td>\n",
       "      <td>Cullman Savings Bank</td>\n",
       "      <td>AL-04</td>\n",
       "    </tr>\n",
       "    <tr>\n",
       "      <th>...</th>\n",
       "      <td>...</td>\n",
       "      <td>...</td>\n",
       "      <td>...</td>\n",
       "      <td>...</td>\n",
       "      <td>...</td>\n",
       "      <td>...</td>\n",
       "      <td>...</td>\n",
       "      <td>...</td>\n",
       "      <td>...</td>\n",
       "      <td>...</td>\n",
       "      <td>...</td>\n",
       "      <td>...</td>\n",
       "      <td>...</td>\n",
       "    </tr>\n",
       "    <tr>\n",
       "      <th>4543111</th>\n",
       "      <td>20832.00</td>\n",
       "      <td>Casper</td>\n",
       "      <td>WY</td>\n",
       "      <td>82601.0</td>\n",
       "      <td>531210.0</td>\n",
       "      <td>Sole Proprietorship</td>\n",
       "      <td>NaN</td>\n",
       "      <td>NaN</td>\n",
       "      <td>NaN</td>\n",
       "      <td>1.0</td>\n",
       "      <td>06/26/2020</td>\n",
       "      <td>First Interstate Bank</td>\n",
       "      <td>WY-00</td>\n",
       "    </tr>\n",
       "    <tr>\n",
       "      <th>4543318</th>\n",
       "      <td>20800.00</td>\n",
       "      <td>Jackson</td>\n",
       "      <td>WY</td>\n",
       "      <td>83001.0</td>\n",
       "      <td>531210.0</td>\n",
       "      <td>Sole Proprietorship</td>\n",
       "      <td>NaN</td>\n",
       "      <td>NaN</td>\n",
       "      <td>NaN</td>\n",
       "      <td>1.0</td>\n",
       "      <td>04/15/2020</td>\n",
       "      <td>Bank of Jackson Hole</td>\n",
       "      <td>WY-00</td>\n",
       "    </tr>\n",
       "    <tr>\n",
       "      <th>4544430</th>\n",
       "      <td>16200.00</td>\n",
       "      <td>Cheyenne</td>\n",
       "      <td>WY</td>\n",
       "      <td>82001.0</td>\n",
       "      <td>541110.0</td>\n",
       "      <td>Limited  Liability Company(LLC)</td>\n",
       "      <td>NaN</td>\n",
       "      <td>Female Owned</td>\n",
       "      <td>NaN</td>\n",
       "      <td>1.0</td>\n",
       "      <td>04/08/2020</td>\n",
       "      <td>Jonah Bank of Wyoming</td>\n",
       "      <td>WY-00</td>\n",
       "    </tr>\n",
       "    <tr>\n",
       "      <th>4546500</th>\n",
       "      <td>9420.00</td>\n",
       "      <td>Buffalo</td>\n",
       "      <td>WY</td>\n",
       "      <td>82834.0</td>\n",
       "      <td>561710.0</td>\n",
       "      <td>Subchapter S Corporation</td>\n",
       "      <td>White</td>\n",
       "      <td>Male Owned</td>\n",
       "      <td>Non-Veteran</td>\n",
       "      <td>1.0</td>\n",
       "      <td>04/12/2020</td>\n",
       "      <td>First Interstate Bank</td>\n",
       "      <td>WY-00</td>\n",
       "    </tr>\n",
       "    <tr>\n",
       "      <th>4546773</th>\n",
       "      <td>8600.00</td>\n",
       "      <td>Sundance</td>\n",
       "      <td>WY</td>\n",
       "      <td>82729.0</td>\n",
       "      <td>484110.0</td>\n",
       "      <td>Sole Proprietorship</td>\n",
       "      <td>NaN</td>\n",
       "      <td>NaN</td>\n",
       "      <td>NaN</td>\n",
       "      <td>1.0</td>\n",
       "      <td>04/27/2020</td>\n",
       "      <td>Sundance State Bank</td>\n",
       "      <td>WY-00</td>\n",
       "    </tr>\n",
       "  </tbody>\n",
       "</table>\n",
       "<p>6418 rows × 13 columns</p>\n",
       "</div>"
      ],
      "text/plain": [
       "         loan_amount          city state      zip industry_code  \\\n",
       "26734       20833.32    Huntsville    AL  35801.0      541110.0   \n",
       "26939       20833.32  Orange Beach    AL  36561.0      531210.0   \n",
       "26953       20833.32    Huntsville    AL  35801.0      621111.0   \n",
       "26954       20833.32    Huntsville    AL  35801.0      621111.0   \n",
       "26975       20833.30       Cullman    AL  35055.0      621111.0   \n",
       "...              ...           ...   ...      ...           ...   \n",
       "4543111     20832.00        Casper    WY  82601.0      531210.0   \n",
       "4543318     20800.00       Jackson    WY  83001.0      531210.0   \n",
       "4544430     16200.00      Cheyenne    WY  82001.0      541110.0   \n",
       "4546500      9420.00       Buffalo    WY  82834.0      561710.0   \n",
       "4546773      8600.00      Sundance    WY  82729.0      484110.0   \n",
       "\n",
       "                           business_type business_owner_race  \\\n",
       "26734           Professional Association                 NaN   \n",
       "26939                Sole Proprietorship                 NaN   \n",
       "26953                        Corporation                 NaN   \n",
       "26954                        Corporation                 NaN   \n",
       "26975          Self-Employed Individuals                 NaN   \n",
       "...                                  ...                 ...   \n",
       "4543111              Sole Proprietorship                 NaN   \n",
       "4543318              Sole Proprietorship                 NaN   \n",
       "4544430  Limited  Liability Company(LLC)                 NaN   \n",
       "4546500         Subchapter S Corporation               White   \n",
       "4546773              Sole Proprietorship                 NaN   \n",
       "\n",
       "        business_owner_gender business_owner_vet_status  jobs_reported  \\\n",
       "26734              Male Owned                       NaN            1.0   \n",
       "26939                     NaN                       NaN            1.0   \n",
       "26953                     NaN                       NaN            1.0   \n",
       "26954                     NaN                       NaN            1.0   \n",
       "26975              Male Owned                       NaN            1.0   \n",
       "...                       ...                       ...            ...   \n",
       "4543111                   NaN                       NaN            1.0   \n",
       "4543318                   NaN                       NaN            1.0   \n",
       "4544430          Female Owned                       NaN            1.0   \n",
       "4546500            Male Owned               Non-Veteran            1.0   \n",
       "4546773                   NaN                       NaN            1.0   \n",
       "\n",
       "        date_loan_approved                   lender congressional_district  \n",
       "26734           04/10/2020  Progress Bank and Trust                  AL-05  \n",
       "26939           04/15/2020          Centennial Bank                  AL-01  \n",
       "26953           04/09/2020  Progress Bank and Trust                  AL-05  \n",
       "26954           04/09/2020  Progress Bank and Trust                  AL-05  \n",
       "26975           04/14/2020     Cullman Savings Bank                  AL-04  \n",
       "...                    ...                      ...                    ...  \n",
       "4543111         06/26/2020    First Interstate Bank                  WY-00  \n",
       "4543318         04/15/2020     Bank of Jackson Hole                  WY-00  \n",
       "4544430         04/08/2020    Jonah Bank of Wyoming                  WY-00  \n",
       "4546500         04/12/2020    First Interstate Bank                  WY-00  \n",
       "4546773         04/27/2020      Sundance State Bank                  WY-00  \n",
       "\n",
       "[6418 rows x 13 columns]"
      ]
     },
     "execution_count": 43,
     "metadata": {},
     "output_type": "execute_result"
    }
   ],
   "source": [
    "#View subset \n",
    "df_ppp_clean6_dups"
   ]
  },
  {
   "cell_type": "code",
   "execution_count": 44,
   "metadata": {},
   "outputs": [
    {
     "data": {
      "text/plain": [
       "(6418, 13)"
      ]
     },
     "execution_count": 44,
     "metadata": {},
     "output_type": "execute_result"
    }
   ],
   "source": [
    "#View shape of dupes\n",
    "df_ppp_clean6_dups.shape"
   ]
  },
  {
   "cell_type": "code",
   "execution_count": 45,
   "metadata": {},
   "outputs": [
    {
     "data": {
      "text/plain": [
       "(4248155, 13)"
      ]
     },
     "execution_count": 45,
     "metadata": {},
     "output_type": "execute_result"
    }
   ],
   "source": [
    "#Seeing Number of Rows in df including duplicates\n",
    "df_ppp_clean6.shape"
   ]
  },
  {
   "cell_type": "code",
   "execution_count": 46,
   "metadata": {},
   "outputs": [],
   "source": [
    "#Create new dataset without duplicate rows\n",
    "df_ppp_clean6_no_dups = df_ppp_clean6.drop_duplicates()"
   ]
  },
  {
   "cell_type": "code",
   "execution_count": 47,
   "metadata": {},
   "outputs": [
    {
     "data": {
      "text/plain": [
       "(4241737, 13)"
      ]
     },
     "execution_count": 47,
     "metadata": {},
     "output_type": "execute_result"
    }
   ],
   "source": [
    "#Seeing Number of Rows in df excluding duplicates\n",
    "df_ppp_clean6_no_dups.shape"
   ]
  },
  {
   "cell_type": "markdown",
   "metadata": {},
   "source": [
    "## 05. Zipcode Dataset - Cleaning Data"
   ]
  },
  {
   "cell_type": "code",
   "execution_count": 48,
   "metadata": {},
   "outputs": [
    {
     "data": {
      "text/html": [
       "<div>\n",
       "<style scoped>\n",
       "    .dataframe tbody tr th:only-of-type {\n",
       "        vertical-align: middle;\n",
       "    }\n",
       "\n",
       "    .dataframe tbody tr th {\n",
       "        vertical-align: top;\n",
       "    }\n",
       "\n",
       "    .dataframe thead th {\n",
       "        text-align: right;\n",
       "    }\n",
       "</style>\n",
       "<table border=\"1\" class=\"dataframe\">\n",
       "  <thead>\n",
       "    <tr style=\"text-align: right;\">\n",
       "      <th></th>\n",
       "      <th>ZIP</th>\n",
       "      <th>COUNTY</th>\n",
       "      <th>RES_RATIO</th>\n",
       "      <th>BUS_RATIO</th>\n",
       "      <th>OTH_RATIO</th>\n",
       "      <th>TOT_RATIO</th>\n",
       "    </tr>\n",
       "  </thead>\n",
       "  <tbody>\n",
       "    <tr>\n",
       "      <th>0</th>\n",
       "      <td>501</td>\n",
       "      <td>36103</td>\n",
       "      <td>0.000000</td>\n",
       "      <td>1.000000</td>\n",
       "      <td>0.000000</td>\n",
       "      <td>1.000000</td>\n",
       "    </tr>\n",
       "    <tr>\n",
       "      <th>1</th>\n",
       "      <td>601</td>\n",
       "      <td>72001</td>\n",
       "      <td>0.839799</td>\n",
       "      <td>0.800983</td>\n",
       "      <td>0.871166</td>\n",
       "      <td>0.838115</td>\n",
       "    </tr>\n",
       "    <tr>\n",
       "      <th>2</th>\n",
       "      <td>601</td>\n",
       "      <td>72113</td>\n",
       "      <td>0.160201</td>\n",
       "      <td>0.199017</td>\n",
       "      <td>0.128834</td>\n",
       "      <td>0.161885</td>\n",
       "    </tr>\n",
       "    <tr>\n",
       "      <th>3</th>\n",
       "      <td>602</td>\n",
       "      <td>72003</td>\n",
       "      <td>1.000000</td>\n",
       "      <td>0.998801</td>\n",
       "      <td>1.000000</td>\n",
       "      <td>0.999919</td>\n",
       "    </tr>\n",
       "    <tr>\n",
       "      <th>4</th>\n",
       "      <td>602</td>\n",
       "      <td>72005</td>\n",
       "      <td>0.000000</td>\n",
       "      <td>0.001199</td>\n",
       "      <td>0.000000</td>\n",
       "      <td>0.000081</td>\n",
       "    </tr>\n",
       "  </tbody>\n",
       "</table>\n",
       "</div>"
      ],
      "text/plain": [
       "   ZIP  COUNTY  RES_RATIO  BUS_RATIO  OTH_RATIO  TOT_RATIO\n",
       "0  501   36103   0.000000   1.000000   0.000000   1.000000\n",
       "1  601   72001   0.839799   0.800983   0.871166   0.838115\n",
       "2  601   72113   0.160201   0.199017   0.128834   0.161885\n",
       "3  602   72003   1.000000   0.998801   1.000000   0.999919\n",
       "4  602   72005   0.000000   0.001199   0.000000   0.000081"
      ]
     },
     "execution_count": 48,
     "metadata": {},
     "output_type": "execute_result"
    }
   ],
   "source": [
    "#View first five rows of data\n",
    "df_zip.head()"
   ]
  },
  {
   "cell_type": "code",
   "execution_count": 49,
   "metadata": {},
   "outputs": [
    {
     "data": {
      "text/plain": [
       "(54194, 6)"
      ]
     },
     "execution_count": 49,
     "metadata": {},
     "output_type": "execute_result"
    }
   ],
   "source": [
    "#Basic info\n",
    "df_zip.shape"
   ]
  },
  {
   "cell_type": "markdown",
   "metadata": {},
   "source": [
    "### Renaming Columns"
   ]
  },
  {
   "cell_type": "code",
   "execution_count": 50,
   "metadata": {},
   "outputs": [],
   "source": [
    "#Renaming Columns\n",
    "df_zip.rename(columns = {'RES_RATIO' : 'RESIDENTIAL_RATIO'}, inplace = True)\n",
    "df_zip.rename(columns = {'BUS_RATIO' : 'BUSINESS_RATIO'}, inplace = True)\n",
    "df_zip.rename(columns = {'OTH_RATIO' : 'OTHER_RATIO'}, inplace = True)\n",
    "df_zip.rename(columns = {'TOT_RATIO' : 'TOTAL_RATIO'}, inplace = True)"
   ]
  },
  {
   "cell_type": "code",
   "execution_count": 51,
   "metadata": {},
   "outputs": [
    {
     "data": {
      "text/html": [
       "<div>\n",
       "<style scoped>\n",
       "    .dataframe tbody tr th:only-of-type {\n",
       "        vertical-align: middle;\n",
       "    }\n",
       "\n",
       "    .dataframe tbody tr th {\n",
       "        vertical-align: top;\n",
       "    }\n",
       "\n",
       "    .dataframe thead th {\n",
       "        text-align: right;\n",
       "    }\n",
       "</style>\n",
       "<table border=\"1\" class=\"dataframe\">\n",
       "  <thead>\n",
       "    <tr style=\"text-align: right;\">\n",
       "      <th></th>\n",
       "      <th>ZIP</th>\n",
       "      <th>COUNTY</th>\n",
       "      <th>RESIDENTIAL_RATIO</th>\n",
       "      <th>BUSINESS_RATIO</th>\n",
       "      <th>OTHER_RATIO</th>\n",
       "      <th>TOTAL_RATIO</th>\n",
       "    </tr>\n",
       "  </thead>\n",
       "  <tbody>\n",
       "    <tr>\n",
       "      <th>0</th>\n",
       "      <td>501</td>\n",
       "      <td>36103</td>\n",
       "      <td>0.000000</td>\n",
       "      <td>1.000000</td>\n",
       "      <td>0.000000</td>\n",
       "      <td>1.000000</td>\n",
       "    </tr>\n",
       "    <tr>\n",
       "      <th>1</th>\n",
       "      <td>601</td>\n",
       "      <td>72001</td>\n",
       "      <td>0.839799</td>\n",
       "      <td>0.800983</td>\n",
       "      <td>0.871166</td>\n",
       "      <td>0.838115</td>\n",
       "    </tr>\n",
       "    <tr>\n",
       "      <th>2</th>\n",
       "      <td>601</td>\n",
       "      <td>72113</td>\n",
       "      <td>0.160201</td>\n",
       "      <td>0.199017</td>\n",
       "      <td>0.128834</td>\n",
       "      <td>0.161885</td>\n",
       "    </tr>\n",
       "    <tr>\n",
       "      <th>3</th>\n",
       "      <td>602</td>\n",
       "      <td>72003</td>\n",
       "      <td>1.000000</td>\n",
       "      <td>0.998801</td>\n",
       "      <td>1.000000</td>\n",
       "      <td>0.999919</td>\n",
       "    </tr>\n",
       "    <tr>\n",
       "      <th>4</th>\n",
       "      <td>602</td>\n",
       "      <td>72005</td>\n",
       "      <td>0.000000</td>\n",
       "      <td>0.001199</td>\n",
       "      <td>0.000000</td>\n",
       "      <td>0.000081</td>\n",
       "    </tr>\n",
       "  </tbody>\n",
       "</table>\n",
       "</div>"
      ],
      "text/plain": [
       "   ZIP  COUNTY  RESIDENTIAL_RATIO  BUSINESS_RATIO  OTHER_RATIO  TOTAL_RATIO\n",
       "0  501   36103           0.000000        1.000000     0.000000     1.000000\n",
       "1  601   72001           0.839799        0.800983     0.871166     0.838115\n",
       "2  601   72113           0.160201        0.199017     0.128834     0.161885\n",
       "3  602   72003           1.000000        0.998801     1.000000     0.999919\n",
       "4  602   72005           0.000000        0.001199     0.000000     0.000081"
      ]
     },
     "execution_count": 51,
     "metadata": {},
     "output_type": "execute_result"
    }
   ],
   "source": [
    "#Check renamed columns\n",
    "df_zip.head()"
   ]
  },
  {
   "cell_type": "markdown",
   "metadata": {},
   "source": [
    "### Data Types"
   ]
  },
  {
   "cell_type": "code",
   "execution_count": 52,
   "metadata": {},
   "outputs": [
    {
     "data": {
      "text/plain": [
       "ZIP                    int64\n",
       "COUNTY                 int64\n",
       "RESIDENTIAL_RATIO    float64\n",
       "BUSINESS_RATIO       float64\n",
       "OTHER_RATIO          float64\n",
       "TOTAL_RATIO          float64\n",
       "dtype: object"
      ]
     },
     "execution_count": 52,
     "metadata": {},
     "output_type": "execute_result"
    }
   ],
   "source": [
    "#View data type of zip\n",
    "df_zip.dtypes"
   ]
  },
  {
   "cell_type": "code",
   "execution_count": 53,
   "metadata": {},
   "outputs": [],
   "source": [
    "#Change data type of zip & country from Numeric to String\n",
    "df_zip['ZIP'] = df_zip['ZIP'].astype('str')\n",
    "df_zip['COUNTY'] = df_zip['COUNTY'].astype('str')"
   ]
  },
  {
   "cell_type": "code",
   "execution_count": 54,
   "metadata": {},
   "outputs": [
    {
     "data": {
      "text/plain": [
       "ZIP                   object\n",
       "COUNTY                object\n",
       "RESIDENTIAL_RATIO    float64\n",
       "BUSINESS_RATIO       float64\n",
       "OTHER_RATIO          float64\n",
       "TOTAL_RATIO          float64\n",
       "dtype: object"
      ]
     },
     "execution_count": 54,
     "metadata": {},
     "output_type": "execute_result"
    }
   ],
   "source": [
    "#Check data types updated\n",
    "df_zip.dtypes"
   ]
  },
  {
   "cell_type": "code",
   "execution_count": 55,
   "metadata": {},
   "outputs": [],
   "source": [
    "#Check for mixed types\n",
    "\n",
    "for col in df_zip.columns.tolist():\n",
    "  weird = (df_zip[[col]].applymap(type) != df_zip[[col]].iloc[0].apply(type)).any(axis = 1)\n",
    "  if len (df_zip[weird]) > 0:\n",
    "    print (col)"
   ]
  },
  {
   "cell_type": "markdown",
   "metadata": {},
   "source": [
    "No output = No mixed types"
   ]
  },
  {
   "cell_type": "markdown",
   "metadata": {},
   "source": [
    "### Missing Values"
   ]
  },
  {
   "cell_type": "code",
   "execution_count": 56,
   "metadata": {},
   "outputs": [
    {
     "data": {
      "text/plain": [
       "ZIP                  0\n",
       "COUNTY               0\n",
       "RESIDENTIAL_RATIO    0\n",
       "BUSINESS_RATIO       0\n",
       "OTHER_RATIO          0\n",
       "TOTAL_RATIO          0\n",
       "dtype: int64"
      ]
     },
     "execution_count": 56,
     "metadata": {},
     "output_type": "execute_result"
    }
   ],
   "source": [
    "#Check for Missing data\n",
    "\n",
    "df_zip.isnull().sum()"
   ]
  },
  {
   "cell_type": "markdown",
   "metadata": {},
   "source": [
    "No missing values"
   ]
  },
  {
   "cell_type": "markdown",
   "metadata": {},
   "source": [
    "### Duplicate Data"
   ]
  },
  {
   "cell_type": "code",
   "execution_count": 57,
   "metadata": {},
   "outputs": [],
   "source": [
    "#Create new subset with only duplicate rows\n",
    "df_zip_dups = df_zip[df_zip.duplicated()]"
   ]
  },
  {
   "cell_type": "code",
   "execution_count": 58,
   "metadata": {},
   "outputs": [
    {
     "data": {
      "text/html": [
       "<div>\n",
       "<style scoped>\n",
       "    .dataframe tbody tr th:only-of-type {\n",
       "        vertical-align: middle;\n",
       "    }\n",
       "\n",
       "    .dataframe tbody tr th {\n",
       "        vertical-align: top;\n",
       "    }\n",
       "\n",
       "    .dataframe thead th {\n",
       "        text-align: right;\n",
       "    }\n",
       "</style>\n",
       "<table border=\"1\" class=\"dataframe\">\n",
       "  <thead>\n",
       "    <tr style=\"text-align: right;\">\n",
       "      <th></th>\n",
       "      <th>ZIP</th>\n",
       "      <th>COUNTY</th>\n",
       "      <th>RESIDENTIAL_RATIO</th>\n",
       "      <th>BUSINESS_RATIO</th>\n",
       "      <th>OTHER_RATIO</th>\n",
       "      <th>TOTAL_RATIO</th>\n",
       "    </tr>\n",
       "  </thead>\n",
       "  <tbody>\n",
       "  </tbody>\n",
       "</table>\n",
       "</div>"
      ],
      "text/plain": [
       "Empty DataFrame\n",
       "Columns: [ZIP, COUNTY, RESIDENTIAL_RATIO, BUSINESS_RATIO, OTHER_RATIO, TOTAL_RATIO]\n",
       "Index: []"
      ]
     },
     "execution_count": 58,
     "metadata": {},
     "output_type": "execute_result"
    }
   ],
   "source": [
    "#View subset \n",
    "df_zip_dups"
   ]
  },
  {
   "cell_type": "markdown",
   "metadata": {},
   "source": [
    "No duplicate data"
   ]
  },
  {
   "cell_type": "markdown",
   "metadata": {},
   "source": [
    "# 06. Industry Dataset - Understanding Data"
   ]
  },
  {
   "cell_type": "code",
   "execution_count": 59,
   "metadata": {},
   "outputs": [
    {
     "data": {
      "text/html": [
       "<div>\n",
       "<style scoped>\n",
       "    .dataframe tbody tr th:only-of-type {\n",
       "        vertical-align: middle;\n",
       "    }\n",
       "\n",
       "    .dataframe tbody tr th {\n",
       "        vertical-align: top;\n",
       "    }\n",
       "\n",
       "    .dataframe thead th {\n",
       "        text-align: right;\n",
       "    }\n",
       "</style>\n",
       "<table border=\"1\" class=\"dataframe\">\n",
       "  <thead>\n",
       "    <tr style=\"text-align: right;\">\n",
       "      <th></th>\n",
       "      <th>industry_code</th>\n",
       "      <th>industry_title</th>\n",
       "    </tr>\n",
       "  </thead>\n",
       "  <tbody>\n",
       "    <tr>\n",
       "      <th>0</th>\n",
       "      <td>111110</td>\n",
       "      <td>NAICS 111110 Soybean farming</td>\n",
       "    </tr>\n",
       "    <tr>\n",
       "      <th>1</th>\n",
       "      <td>111120</td>\n",
       "      <td>NAICS 111120 Oilseed, except soybean, farming</td>\n",
       "    </tr>\n",
       "    <tr>\n",
       "      <th>2</th>\n",
       "      <td>111130</td>\n",
       "      <td>NAICS 111130 Dry pea and bean farming</td>\n",
       "    </tr>\n",
       "    <tr>\n",
       "      <th>3</th>\n",
       "      <td>111140</td>\n",
       "      <td>NAICS 111140 Wheat farming</td>\n",
       "    </tr>\n",
       "    <tr>\n",
       "      <th>4</th>\n",
       "      <td>111150</td>\n",
       "      <td>NAICS 111150 Corn farming</td>\n",
       "    </tr>\n",
       "  </tbody>\n",
       "</table>\n",
       "</div>"
      ],
      "text/plain": [
       "  industry_code                                 industry_title\n",
       "0        111110                   NAICS 111110 Soybean farming\n",
       "1        111120  NAICS 111120 Oilseed, except soybean, farming\n",
       "2        111130          NAICS 111130 Dry pea and bean farming\n",
       "3        111140                     NAICS 111140 Wheat farming\n",
       "4        111150                      NAICS 111150 Corn farming"
      ]
     },
     "execution_count": 59,
     "metadata": {},
     "output_type": "execute_result"
    }
   ],
   "source": [
    "df_industry.head()"
   ]
  },
  {
   "cell_type": "code",
   "execution_count": 60,
   "metadata": {},
   "outputs": [
    {
     "data": {
      "text/plain": [
       "(1301, 2)"
      ]
     },
     "execution_count": 60,
     "metadata": {},
     "output_type": "execute_result"
    }
   ],
   "source": [
    "df_industry.shape"
   ]
  },
  {
   "cell_type": "code",
   "execution_count": 61,
   "metadata": {},
   "outputs": [
    {
     "data": {
      "text/plain": [
       "industry_code     object\n",
       "industry_title    object\n",
       "dtype: object"
      ]
     },
     "execution_count": 61,
     "metadata": {},
     "output_type": "execute_result"
    }
   ],
   "source": [
    "df_industry.dtypes"
   ]
  },
  {
   "cell_type": "markdown",
   "metadata": {},
   "source": [
    "### Export Data"
   ]
  },
  {
   "cell_type": "code",
   "execution_count": 62,
   "metadata": {},
   "outputs": [],
   "source": [
    "#Exporting in Pickle Format\n",
    "\n",
    "df_industry.to_pickle(os.path.join(path,'Prepared Data', 'industry_cleaned.pkl'))"
   ]
  },
  {
   "cell_type": "markdown",
   "metadata": {},
   "source": [
    "# 07. PPP Dataset - Understanding Data"
   ]
  },
  {
   "cell_type": "code",
   "execution_count": 63,
   "metadata": {},
   "outputs": [
    {
     "data": {
      "text/plain": [
       "(4241737, 13)"
      ]
     },
     "execution_count": 63,
     "metadata": {},
     "output_type": "execute_result"
    }
   ],
   "source": [
    "df_ppp_clean6_no_dups.shape"
   ]
  },
  {
   "cell_type": "code",
   "execution_count": 64,
   "metadata": {},
   "outputs": [
    {
     "data": {
      "text/plain": [
       "loan_amount                  float64\n",
       "city                          object\n",
       "state                         object\n",
       "zip                           object\n",
       "industry_code                 object\n",
       "business_type                 object\n",
       "business_owner_race           object\n",
       "business_owner_gender         object\n",
       "business_owner_vet_status     object\n",
       "jobs_reported                float64\n",
       "date_loan_approved            object\n",
       "lender                        object\n",
       "congressional_district        object\n",
       "dtype: object"
      ]
     },
     "execution_count": 64,
     "metadata": {},
     "output_type": "execute_result"
    }
   ],
   "source": [
    "df_ppp_clean6_no_dups.dtypes"
   ]
  },
  {
   "cell_type": "code",
   "execution_count": 65,
   "metadata": {},
   "outputs": [
    {
     "data": {
      "text/html": [
       "<div>\n",
       "<style scoped>\n",
       "    .dataframe tbody tr th:only-of-type {\n",
       "        vertical-align: middle;\n",
       "    }\n",
       "\n",
       "    .dataframe tbody tr th {\n",
       "        vertical-align: top;\n",
       "    }\n",
       "\n",
       "    .dataframe thead th {\n",
       "        text-align: right;\n",
       "    }\n",
       "</style>\n",
       "<table border=\"1\" class=\"dataframe\">\n",
       "  <thead>\n",
       "    <tr style=\"text-align: right;\">\n",
       "      <th></th>\n",
       "      <th>loan_amount</th>\n",
       "      <th>jobs_reported</th>\n",
       "    </tr>\n",
       "  </thead>\n",
       "  <tbody>\n",
       "    <tr>\n",
       "      <th>count</th>\n",
       "      <td>4.241737e+06</td>\n",
       "      <td>4.241737e+06</td>\n",
       "    </tr>\n",
       "    <tr>\n",
       "      <th>mean</th>\n",
       "      <td>3.235574e+04</td>\n",
       "      <td>4.611102e+00</td>\n",
       "    </tr>\n",
       "    <tr>\n",
       "      <th>std</th>\n",
       "      <td>3.289215e+04</td>\n",
       "      <td>9.908373e+00</td>\n",
       "    </tr>\n",
       "    <tr>\n",
       "      <th>min</th>\n",
       "      <td>1.000000e-02</td>\n",
       "      <td>-6.000000e+00</td>\n",
       "    </tr>\n",
       "    <tr>\n",
       "      <th>25%</th>\n",
       "      <td>9.300000e+03</td>\n",
       "      <td>1.000000e+00</td>\n",
       "    </tr>\n",
       "    <tr>\n",
       "      <th>50%</th>\n",
       "      <td>2.065000e+04</td>\n",
       "      <td>2.000000e+00</td>\n",
       "    </tr>\n",
       "    <tr>\n",
       "      <th>75%</th>\n",
       "      <td>4.367200e+04</td>\n",
       "      <td>6.000000e+00</td>\n",
       "    </tr>\n",
       "    <tr>\n",
       "      <th>max</th>\n",
       "      <td>1.499991e+05</td>\n",
       "      <td>5.000000e+02</td>\n",
       "    </tr>\n",
       "  </tbody>\n",
       "</table>\n",
       "</div>"
      ],
      "text/plain": [
       "        loan_amount  jobs_reported\n",
       "count  4.241737e+06   4.241737e+06\n",
       "mean   3.235574e+04   4.611102e+00\n",
       "std    3.289215e+04   9.908373e+00\n",
       "min    1.000000e-02  -6.000000e+00\n",
       "25%    9.300000e+03   1.000000e+00\n",
       "50%    2.065000e+04   2.000000e+00\n",
       "75%    4.367200e+04   6.000000e+00\n",
       "max    1.499991e+05   5.000000e+02"
      ]
     },
     "execution_count": 65,
     "metadata": {},
     "output_type": "execute_result"
    }
   ],
   "source": [
    "df_ppp_clean6_no_dups.describe()"
   ]
  },
  {
   "cell_type": "code",
   "execution_count": 70,
   "metadata": {},
   "outputs": [
    {
     "name": "stderr",
     "output_type": "stream",
     "text": [
      "C:\\Users\\chery\\anaconda3\\lib\\site-packages\\pandas\\core\\frame.py:4163: SettingWithCopyWarning: \n",
      "A value is trying to be set on a copy of a slice from a DataFrame\n",
      "\n",
      "See the caveats in the documentation: https://pandas.pydata.org/pandas-docs/stable/user_guide/indexing.html#returning-a-view-versus-a-copy\n",
      "  return super().drop(\n"
     ]
    }
   ],
   "source": [
    "#Drop row(s) with negative value for 'jobs_reported'\n",
    "df_ppp_clean6_no_dups.drop(df_ppp_clean6_no_dups.loc[df_ppp_clean6_no_dups['jobs_reported']==-6].index, inplace=True)"
   ]
  },
  {
   "cell_type": "code",
   "execution_count": 71,
   "metadata": {},
   "outputs": [
    {
     "data": {
      "text/html": [
       "<div>\n",
       "<style scoped>\n",
       "    .dataframe tbody tr th:only-of-type {\n",
       "        vertical-align: middle;\n",
       "    }\n",
       "\n",
       "    .dataframe tbody tr th {\n",
       "        vertical-align: top;\n",
       "    }\n",
       "\n",
       "    .dataframe thead th {\n",
       "        text-align: right;\n",
       "    }\n",
       "</style>\n",
       "<table border=\"1\" class=\"dataframe\">\n",
       "  <thead>\n",
       "    <tr style=\"text-align: right;\">\n",
       "      <th></th>\n",
       "      <th>loan_amount</th>\n",
       "      <th>jobs_reported</th>\n",
       "    </tr>\n",
       "  </thead>\n",
       "  <tbody>\n",
       "    <tr>\n",
       "      <th>count</th>\n",
       "      <td>4.241736e+06</td>\n",
       "      <td>4.241736e+06</td>\n",
       "    </tr>\n",
       "    <tr>\n",
       "      <th>mean</th>\n",
       "      <td>3.235574e+04</td>\n",
       "      <td>4.611105e+00</td>\n",
       "    </tr>\n",
       "    <tr>\n",
       "      <th>std</th>\n",
       "      <td>3.289216e+04</td>\n",
       "      <td>9.908373e+00</td>\n",
       "    </tr>\n",
       "    <tr>\n",
       "      <th>min</th>\n",
       "      <td>1.000000e-02</td>\n",
       "      <td>0.000000e+00</td>\n",
       "    </tr>\n",
       "    <tr>\n",
       "      <th>25%</th>\n",
       "      <td>9.300000e+03</td>\n",
       "      <td>1.000000e+00</td>\n",
       "    </tr>\n",
       "    <tr>\n",
       "      <th>50%</th>\n",
       "      <td>2.065000e+04</td>\n",
       "      <td>2.000000e+00</td>\n",
       "    </tr>\n",
       "    <tr>\n",
       "      <th>75%</th>\n",
       "      <td>4.367200e+04</td>\n",
       "      <td>6.000000e+00</td>\n",
       "    </tr>\n",
       "    <tr>\n",
       "      <th>max</th>\n",
       "      <td>1.499991e+05</td>\n",
       "      <td>5.000000e+02</td>\n",
       "    </tr>\n",
       "  </tbody>\n",
       "</table>\n",
       "</div>"
      ],
      "text/plain": [
       "        loan_amount  jobs_reported\n",
       "count  4.241736e+06   4.241736e+06\n",
       "mean   3.235574e+04   4.611105e+00\n",
       "std    3.289216e+04   9.908373e+00\n",
       "min    1.000000e-02   0.000000e+00\n",
       "25%    9.300000e+03   1.000000e+00\n",
       "50%    2.065000e+04   2.000000e+00\n",
       "75%    4.367200e+04   6.000000e+00\n",
       "max    1.499991e+05   5.000000e+02"
      ]
     },
     "execution_count": 71,
     "metadata": {},
     "output_type": "execute_result"
    }
   ],
   "source": [
    "#Confirm that negative value removed for 'jobs_reported'\n",
    "df_ppp_clean6_no_dups.describe()"
   ]
  },
  {
   "cell_type": "code",
   "execution_count": 72,
   "metadata": {},
   "outputs": [
    {
     "data": {
      "text/plain": [
       "(4241736, 13)"
      ]
     },
     "execution_count": 72,
     "metadata": {},
     "output_type": "execute_result"
    }
   ],
   "source": [
    "df_ppp_clean6_no_dups.shape"
   ]
  },
  {
   "cell_type": "code",
   "execution_count": 73,
   "metadata": {},
   "outputs": [
    {
     "data": {
      "text/plain": [
       "20833.00    70281\n",
       "20800.00    56847\n",
       "20832.00    50551\n",
       "10000.00    25983\n",
       "12500.00    25305\n",
       "            ...  \n",
       "3352.75         1\n",
       "4534.37         1\n",
       "91444.00        1\n",
       "10406.04        1\n",
       "13575.43        1\n",
       "Name: loan_amount, Length: 417095, dtype: int64"
      ]
     },
     "execution_count": 73,
     "metadata": {},
     "output_type": "execute_result"
    }
   ],
   "source": [
    "#Print frequency of 'loan_amount' column to find potential mode\n",
    "\n",
    "df_ppp_clean6 ['loan_amount'].value_counts(dropna = False)"
   ]
  },
  {
   "cell_type": "code",
   "execution_count": 74,
   "metadata": {},
   "outputs": [
    {
     "data": {
      "text/plain": [
       "1.0      1247679\n",
       "0.0       553146\n",
       "2.0       468325\n",
       "3.0       346731\n",
       "4.0       287169\n",
       "          ...   \n",
       "338.0          1\n",
       "337.0          1\n",
       "246.0          1\n",
       "247.0          1\n",
       "295.0          1\n",
       "Name: jobs_reported, Length: 381, dtype: int64"
      ]
     },
     "execution_count": 74,
     "metadata": {},
     "output_type": "execute_result"
    }
   ],
   "source": [
    "#Print frequency of 'jobs_reported' column to find potential mode\n",
    "\n",
    "df_ppp_clean6 ['jobs_reported'].value_counts(dropna = False)"
   ]
  },
  {
   "cell_type": "code",
   "execution_count": 75,
   "metadata": {},
   "outputs": [
    {
     "data": {
      "text/plain": [
       "New York           48544\n",
       "Houston            47546\n",
       "Los Angeles        41883\n",
       "Chicago            41343\n",
       "Miami              39461\n",
       "                   ...  \n",
       "Chery Grove            1\n",
       "Corpus  Christi        1\n",
       "Henreytta              1\n",
       "Chicagochicago         1\n",
       "Chataignier            1\n",
       "Name: city, Length: 35619, dtype: int64"
      ]
     },
     "execution_count": 75,
     "metadata": {},
     "output_type": "execute_result"
    }
   ],
   "source": [
    "#Print frequency of 'City' column to find potential mode\n",
    "\n",
    "df_ppp_clean6 ['city'].value_counts(dropna = False)"
   ]
  },
  {
   "cell_type": "code",
   "execution_count": 76,
   "metadata": {},
   "outputs": [
    {
     "data": {
      "text/plain": [
       "CA    490234\n",
       "FL    365510\n",
       "TX    347657\n",
       "NY    283036\n",
       "IL    187622\n",
       "GA    145577\n",
       "PA    130891\n",
       "NJ    127179\n",
       "OH    117452\n",
       "NC    107293\n",
       "MI    100615\n",
       "VA     93064\n",
       "CO     87262\n",
       "MA     87254\n",
       "WA     86094\n",
       "MN     83747\n",
       "TN     80135\n",
       "MO     79564\n",
       "WI     75200\n",
       "MD     70321\n",
       "AZ     68805\n",
       "IN     67445\n",
       "LA     66651\n",
       "AL     59630\n",
       "OK     57696\n",
       "SC     56520\n",
       "CT     52480\n",
       "IA     51701\n",
       "OR     51298\n",
       "KS     46191\n",
       "UT     44073\n",
       "MS     43560\n",
       "KY     42368\n",
       "PR     37440\n",
       "NV     36603\n",
       "AR     35926\n",
       "NE     35182\n",
       "ID     26630\n",
       "ME     24758\n",
       "MT     21246\n",
       "HI     19456\n",
       "SD     19415\n",
       "NM     18700\n",
       "NH     18217\n",
       "ND     17647\n",
       "WV     15366\n",
       "WY     11805\n",
       "RI     11531\n",
       "VT     10129\n",
       "DC      9982\n",
       "AK      9854\n",
       "DE      9795\n",
       "VI      1880\n",
       "GU      1828\n",
       "MP       364\n",
       "AS       274\n",
       "AE         1\n",
       "FI         1\n",
       "Name: state, dtype: int64"
      ]
     },
     "execution_count": 76,
     "metadata": {},
     "output_type": "execute_result"
    }
   ],
   "source": [
    "#Print frequency of 'state' column to find potential mode\n",
    "\n",
    "df_ppp_clean6 ['state'].value_counts(dropna = False)"
   ]
  },
  {
   "cell_type": "code",
   "execution_count": 77,
   "metadata": {},
   "outputs": [
    {
     "data": {
      "text/plain": [
       "10001.0    3555\n",
       "10036.0    2879\n",
       "10018.0    2856\n",
       "8701.0     2827\n",
       "10016.0    2792\n",
       "           ... \n",
       "60669.0       1\n",
       "16413.0       1\n",
       "17253.0       1\n",
       "80818.0       1\n",
       "33564.0       1\n",
       "Name: zip, Length: 35782, dtype: int64"
      ]
     },
     "execution_count": 77,
     "metadata": {},
     "output_type": "execute_result"
    }
   ],
   "source": [
    "#Print frequency of 'zip' column to find potential mode\n",
    "\n",
    "df_ppp_clean6 ['zip'].value_counts(dropna = False)"
   ]
  },
  {
   "cell_type": "code",
   "execution_count": 78,
   "metadata": {},
   "outputs": [
    {
     "data": {
      "text/plain": [
       "722511.0    133907\n",
       "531210.0    112803\n",
       "nan         112668\n",
       "541110.0    106416\n",
       "812112.0     89313\n",
       "             ...  \n",
       "421930.0         1\n",
       "331311.0         1\n",
       "315299.0         1\n",
       "315222.0         1\n",
       "327112.0         1\n",
       "Name: industry_code, Length: 1220, dtype: int64"
      ]
     },
     "execution_count": 78,
     "metadata": {},
     "output_type": "execute_result"
    }
   ],
   "source": [
    "#Print frequency of 'industry_code' column to find potential mode\n",
    "\n",
    "df_ppp_clean6 ['industry_code'].value_counts(dropna = False)"
   ]
  },
  {
   "cell_type": "code",
   "execution_count": 79,
   "metadata": {},
   "outputs": [
    {
     "data": {
      "text/plain": [
       "Limited  Liability Company(LLC)        1210113\n",
       "Corporation                            1133314\n",
       "Sole Proprietorship                     747688\n",
       "Subchapter S Corporation                539295\n",
       "Self-Employed Individuals               230919\n",
       "Independent Contractors                 145702\n",
       "Non-Profit Organization                 130194\n",
       "Partnership                              55511\n",
       "Limited Liability Partnership            26426\n",
       "Professional Association                 20453\n",
       "Cooperative                               4496\n",
       "Non-Profit Childcare Center               1893\n",
       "Trust                                      915\n",
       "Joint Venture                              472\n",
       "Tenant in Common                           466\n",
       "Employee Stock Ownership Plan(ESOP)        281\n",
       "Rollover as Business Start-Ups (ROB         17\n",
       "Name: business_type, dtype: int64"
      ]
     },
     "execution_count": 79,
     "metadata": {},
     "output_type": "execute_result"
    }
   ],
   "source": [
    "#Print frequency of 'business_type' column to find potential mode\n",
    "\n",
    "df_ppp_clean6 ['business_type'].value_counts(dropna = False)"
   ]
  },
  {
   "cell_type": "code",
   "execution_count": 80,
   "metadata": {},
   "outputs": [
    {
     "data": {
      "text/plain": [
       "NaN                                 3817050\n",
       "White                                329014\n",
       "Asian                                 49922\n",
       "Hispanic                              34767\n",
       "Black or African American             15001\n",
       "American Indian or Alaska Native       2236\n",
       "Puerto Rican                            152\n",
       "Multi Group                               8\n",
       "Eskimo & Aleut                            5\n",
       "Name: business_owner_race, dtype: int64"
      ]
     },
     "execution_count": 80,
     "metadata": {},
     "output_type": "execute_result"
    }
   ],
   "source": [
    "#Print frequency of 'business_owner_race' column to find potential mode\n",
    "\n",
    "df_ppp_clean6 ['business_owner_race'].value_counts(dropna = False)"
   ]
  },
  {
   "cell_type": "code",
   "execution_count": 81,
   "metadata": {},
   "outputs": [
    {
     "data": {
      "text/plain": [
       "NaN             3359297\n",
       "Male Owned       672241\n",
       "Female Owned     216617\n",
       "Name: business_owner_gender, dtype: int64"
      ]
     },
     "execution_count": 81,
     "metadata": {},
     "output_type": "execute_result"
    }
   ],
   "source": [
    "#Print frequency of 'business_owner_gender' column to find potential mode\n",
    "\n",
    "df_ppp_clean6 ['business_owner_gender'].value_counts(dropna = False)"
   ]
  },
  {
   "cell_type": "code",
   "execution_count": 82,
   "metadata": {},
   "outputs": [
    {
     "data": {
      "text/plain": [
       "NaN            3652511\n",
       "Non-Veteran     569793\n",
       "Veteran          25851\n",
       "Name: business_owner_vet_status, dtype: int64"
      ]
     },
     "execution_count": 82,
     "metadata": {},
     "output_type": "execute_result"
    }
   ],
   "source": [
    "#Print frequency of 'business_owner_vet_status' column to find potential mode\n",
    "\n",
    "df_ppp_clean6 ['business_owner_vet_status'].value_counts(dropna = False)"
   ]
  },
  {
   "cell_type": "code",
   "execution_count": 83,
   "metadata": {},
   "outputs": [
    {
     "data": {
      "text/plain": [
       "05/03/2020    392659\n",
       "04/28/2020    374195\n",
       "05/01/2020    287805\n",
       "04/30/2020    274609\n",
       "04/15/2020    236448\n",
       "               ...  \n",
       "06/06/2020      1430\n",
       "07/12/2020      1418\n",
       "06/14/2020      1415\n",
       "06/07/2020      1034\n",
       "07/04/2020       240\n",
       "Name: date_loan_approved, Length: 114, dtype: int64"
      ]
     },
     "execution_count": 83,
     "metadata": {},
     "output_type": "execute_result"
    }
   ],
   "source": [
    "#Print frequency of 'date_loan_approved' column to find potential mode\n",
    "\n",
    "df_ppp_clean6 ['date_loan_approved'].value_counts(dropna = False)"
   ]
  },
  {
   "cell_type": "code",
   "execution_count": 84,
   "metadata": {},
   "outputs": [
    {
     "data": {
      "text/plain": [
       "Bank of America, National Association           312572\n",
       "JPMorgan Chase Bank, National Association       241393\n",
       "Kabbage, Inc.                                   193880\n",
       "Cross River Bank                                191365\n",
       "Wells Fargo Bank, National Association          119575\n",
       "                                                 ...  \n",
       "North Cambridge Co-Operative Bank                    1\n",
       "Diversified Members CU                               1\n",
       "WCF Financial Bank                                   1\n",
       "Section 705 FCU                                      1\n",
       "Independent Development Services Corporation         1\n",
       "Name: lender, Length: 4870, dtype: int64"
      ]
     },
     "execution_count": 84,
     "metadata": {},
     "output_type": "execute_result"
    }
   ],
   "source": [
    "#Print frequency of 'lender' column to find potential mode\n",
    "\n",
    "df_ppp_clean6 ['lender'].value_counts(dropna = False)"
   ]
  },
  {
   "cell_type": "code",
   "execution_count": 85,
   "metadata": {},
   "outputs": [
    {
     "data": {
      "text/plain": [
       "PR-00    37434\n",
       "NY-12    33033\n",
       "FL-22    23862\n",
       "CA-33    23495\n",
       "CA-30    22979\n",
       "         ...  \n",
       "GU-00     1829\n",
       "TX-33     1107\n",
       "MP-00      364\n",
       "AS-00      274\n",
       "AE-00        3\n",
       "Name: congressional_district, Length: 442, dtype: int64"
      ]
     },
     "execution_count": 85,
     "metadata": {},
     "output_type": "execute_result"
    }
   ],
   "source": [
    "#Print frequency of 'congressional_district' column to find potential mode\n",
    "\n",
    "df_ppp_clean6 ['congressional_district'].value_counts(dropna = False)"
   ]
  },
  {
   "cell_type": "markdown",
   "metadata": {},
   "source": [
    "### Export Data"
   ]
  },
  {
   "cell_type": "code",
   "execution_count": 86,
   "metadata": {},
   "outputs": [],
   "source": [
    "#Exporting in Pickle Format\n",
    "\n",
    "df_ppp_clean6_no_dups.to_pickle(os.path.join(path,'Prepared Data', 'ppp_cleaned.pkl'))"
   ]
  },
  {
   "cell_type": "markdown",
   "metadata": {},
   "source": [
    "# 08. Zipcode Dataset - Understanding Data"
   ]
  },
  {
   "cell_type": "code",
   "execution_count": 94,
   "metadata": {},
   "outputs": [
    {
     "data": {
      "text/plain": [
       "(54194, 6)"
      ]
     },
     "execution_count": 94,
     "metadata": {},
     "output_type": "execute_result"
    }
   ],
   "source": [
    "df_zip.shape"
   ]
  },
  {
   "cell_type": "code",
   "execution_count": 95,
   "metadata": {},
   "outputs": [
    {
     "data": {
      "text/plain": [
       "ZIP                   object\n",
       "COUNTY                object\n",
       "RESIDENTIAL_RATIO    float64\n",
       "BUSINESS_RATIO       float64\n",
       "OTHER_RATIO          float64\n",
       "TOTAL_RATIO          float64\n",
       "dtype: object"
      ]
     },
     "execution_count": 95,
     "metadata": {},
     "output_type": "execute_result"
    }
   ],
   "source": [
    "df_zip.dtypes"
   ]
  },
  {
   "cell_type": "code",
   "execution_count": 96,
   "metadata": {},
   "outputs": [
    {
     "data": {
      "text/html": [
       "<div>\n",
       "<style scoped>\n",
       "    .dataframe tbody tr th:only-of-type {\n",
       "        vertical-align: middle;\n",
       "    }\n",
       "\n",
       "    .dataframe tbody tr th {\n",
       "        vertical-align: top;\n",
       "    }\n",
       "\n",
       "    .dataframe thead th {\n",
       "        text-align: right;\n",
       "    }\n",
       "</style>\n",
       "<table border=\"1\" class=\"dataframe\">\n",
       "  <thead>\n",
       "    <tr style=\"text-align: right;\">\n",
       "      <th></th>\n",
       "      <th>RESIDENTIAL_RATIO</th>\n",
       "      <th>BUSINESS_RATIO</th>\n",
       "      <th>OTHER_RATIO</th>\n",
       "      <th>TOTAL_RATIO</th>\n",
       "    </tr>\n",
       "  </thead>\n",
       "  <tbody>\n",
       "    <tr>\n",
       "      <th>count</th>\n",
       "      <td>54194.000000</td>\n",
       "      <td>54194.000000</td>\n",
       "      <td>54194.000000</td>\n",
       "      <td>54194.000000</td>\n",
       "    </tr>\n",
       "    <tr>\n",
       "      <th>mean</th>\n",
       "      <td>0.648559</td>\n",
       "      <td>0.661051</td>\n",
       "      <td>0.659556</td>\n",
       "      <td>0.728033</td>\n",
       "    </tr>\n",
       "    <tr>\n",
       "      <th>std</th>\n",
       "      <td>0.438594</td>\n",
       "      <td>0.447735</td>\n",
       "      <td>0.459942</td>\n",
       "      <td>0.403485</td>\n",
       "    </tr>\n",
       "    <tr>\n",
       "      <th>min</th>\n",
       "      <td>0.000000</td>\n",
       "      <td>0.000000</td>\n",
       "      <td>0.000000</td>\n",
       "      <td>0.000027</td>\n",
       "    </tr>\n",
       "    <tr>\n",
       "      <th>25%</th>\n",
       "      <td>0.067561</td>\n",
       "      <td>0.031746</td>\n",
       "      <td>0.000000</td>\n",
       "      <td>0.309856</td>\n",
       "    </tr>\n",
       "    <tr>\n",
       "      <th>50%</th>\n",
       "      <td>0.988012</td>\n",
       "      <td>1.000000</td>\n",
       "      <td>1.000000</td>\n",
       "      <td>1.000000</td>\n",
       "    </tr>\n",
       "    <tr>\n",
       "      <th>75%</th>\n",
       "      <td>1.000000</td>\n",
       "      <td>1.000000</td>\n",
       "      <td>1.000000</td>\n",
       "      <td>1.000000</td>\n",
       "    </tr>\n",
       "    <tr>\n",
       "      <th>max</th>\n",
       "      <td>1.000000</td>\n",
       "      <td>1.000000</td>\n",
       "      <td>1.000000</td>\n",
       "      <td>1.000000</td>\n",
       "    </tr>\n",
       "  </tbody>\n",
       "</table>\n",
       "</div>"
      ],
      "text/plain": [
       "       RESIDENTIAL_RATIO  BUSINESS_RATIO   OTHER_RATIO   TOTAL_RATIO\n",
       "count       54194.000000    54194.000000  54194.000000  54194.000000\n",
       "mean            0.648559        0.661051      0.659556      0.728033\n",
       "std             0.438594        0.447735      0.459942      0.403485\n",
       "min             0.000000        0.000000      0.000000      0.000027\n",
       "25%             0.067561        0.031746      0.000000      0.309856\n",
       "50%             0.988012        1.000000      1.000000      1.000000\n",
       "75%             1.000000        1.000000      1.000000      1.000000\n",
       "max             1.000000        1.000000      1.000000      1.000000"
      ]
     },
     "execution_count": 96,
     "metadata": {},
     "output_type": "execute_result"
    }
   ],
   "source": [
    "df_zip.describe()"
   ]
  },
  {
   "cell_type": "code",
   "execution_count": 102,
   "metadata": {},
   "outputs": [
    {
     "data": {
      "text/plain": [
       "1.000000    24172\n",
       "0.000000     4512\n",
       "0.500000       13\n",
       "0.068966       10\n",
       "0.125000        9\n",
       "            ...  \n",
       "0.906199        1\n",
       "0.001859        1\n",
       "0.766150        1\n",
       "0.018251        1\n",
       "0.030863        1\n",
       "Name: RESIDENTIAL_RATIO, Length: 23360, dtype: int64"
      ]
     },
     "execution_count": 102,
     "metadata": {},
     "output_type": "execute_result"
    }
   ],
   "source": [
    "#Print frequency of 'RESIDENTIAL_RATIO' column to find potential mode\n",
    "\n",
    "df_zip ['RESIDENTIAL_RATIO'].value_counts(dropna = False)"
   ]
  },
  {
   "cell_type": "code",
   "execution_count": 103,
   "metadata": {},
   "outputs": [
    {
     "data": {
      "text/plain": [
       "1.000000    29236\n",
       "0.000000    10586\n",
       "0.500000      242\n",
       "0.333333      140\n",
       "0.666667      127\n",
       "            ...  \n",
       "0.428517        1\n",
       "0.351230        1\n",
       "0.997583        1\n",
       "0.669623        1\n",
       "0.916596        1\n",
       "Name: BUSINESS_RATIO, Length: 6755, dtype: int64"
      ]
     },
     "execution_count": 103,
     "metadata": {},
     "output_type": "execute_result"
    }
   ],
   "source": [
    "#Print frequency of 'BUSINESS_RATIO' column to find potential mode\n",
    "\n",
    "df_zip ['BUSINESS_RATIO'].value_counts(dropna = False)"
   ]
  },
  {
   "cell_type": "code",
   "execution_count": 104,
   "metadata": {},
   "outputs": [
    {
     "data": {
      "text/plain": [
       "1.000000    32462\n",
       "0.000000    14830\n",
       "0.500000      196\n",
       "0.666667      135\n",
       "0.333333      131\n",
       "            ...  \n",
       "0.917431        1\n",
       "0.773810        1\n",
       "0.020576        1\n",
       "0.495088        1\n",
       "0.670455        1\n",
       "Name: OTHER_RATIO, Length: 3384, dtype: int64"
      ]
     },
     "execution_count": 104,
     "metadata": {},
     "output_type": "execute_result"
    }
   ],
   "source": [
    "#Print frequency of 'OTHER_RATIO' column to find potential mode\n",
    "\n",
    "df_zip ['OTHER_RATIO'].value_counts(dropna = False)"
   ]
  },
  {
   "cell_type": "code",
   "execution_count": 105,
   "metadata": {},
   "outputs": [
    {
     "data": {
      "text/plain": [
       "1.000000    28318\n",
       "0.500000       12\n",
       "0.090909       10\n",
       "0.666667       10\n",
       "0.066667        9\n",
       "            ...  \n",
       "0.759281        1\n",
       "0.195087        1\n",
       "0.111524        1\n",
       "0.019911        1\n",
       "0.162762        1\n",
       "Name: TOTAL_RATIO, Length: 23739, dtype: int64"
      ]
     },
     "execution_count": 105,
     "metadata": {},
     "output_type": "execute_result"
    }
   ],
   "source": [
    "#Print frequency of 'TOTAL_RATIO' column to find potential mode\n",
    "\n",
    "df_zip ['TOTAL_RATIO'].value_counts(dropna = False)"
   ]
  },
  {
   "cell_type": "code",
   "execution_count": 106,
   "metadata": {},
   "outputs": [
    {
     "data": {
      "text/plain": [
       "926      7\n",
       "40361    6\n",
       "39573    6\n",
       "725      6\n",
       "957      6\n",
       "        ..\n",
       "41567    1\n",
       "48127    1\n",
       "73403    1\n",
       "1081     1\n",
       "34203    1\n",
       "Name: ZIP, Length: 39455, dtype: int64"
      ]
     },
     "execution_count": 106,
     "metadata": {},
     "output_type": "execute_result"
    }
   ],
   "source": [
    "#Print frequency of 'zip' column to find potential mode\n",
    "\n",
    "df_zip ['ZIP'].value_counts(dropna = False)"
   ]
  },
  {
   "cell_type": "code",
   "execution_count": 107,
   "metadata": {},
   "outputs": [
    {
     "data": {
      "text/plain": [
       "6037     495\n",
       "48201    230\n",
       "17031    227\n",
       "11001    220\n",
       "4013     193\n",
       "        ... \n",
       "72073      1\n",
       "72147      1\n",
       "48003      1\n",
       "78020      1\n",
       "51595      1\n",
       "Name: COUNTY, Length: 3227, dtype: int64"
      ]
     },
     "execution_count": 107,
     "metadata": {},
     "output_type": "execute_result"
    }
   ],
   "source": [
    "#Print frequency of 'county' column to find potential mode\n",
    "\n",
    "df_zip ['COUNTY'].value_counts(dropna = False)"
   ]
  },
  {
   "cell_type": "markdown",
   "metadata": {},
   "source": [
    "### Export Data"
   ]
  },
  {
   "cell_type": "code",
   "execution_count": 108,
   "metadata": {},
   "outputs": [],
   "source": [
    "#Exporting in Pickle Format\n",
    "\n",
    "df_zip.to_pickle(os.path.join(path,'Prepared Data', 'zip_cleaned.pkl'))"
   ]
  }
 ],
 "metadata": {
  "kernelspec": {
   "display_name": "Python 3",
   "language": "python",
   "name": "python3"
  },
  "language_info": {
   "codemirror_mode": {
    "name": "ipython",
    "version": 3
   },
   "file_extension": ".py",
   "mimetype": "text/x-python",
   "name": "python",
   "nbconvert_exporter": "python",
   "pygments_lexer": "ipython3",
   "version": "3.8.8"
  }
 },
 "nbformat": 4,
 "nbformat_minor": 4
}
