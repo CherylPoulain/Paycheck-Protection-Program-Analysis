{
 "cells": [
  {
   "cell_type": "markdown",
   "metadata": {},
   "source": [
    "## CONTENT LIST\n",
    "1. Import Data and Libraries\n",
    "2. Data Wrangling\n",
    "3. Data Merging\n",
    "4. Data Cleaning \n",
    "5. Splitting DF to run Choropleth\n",
    "6. Plotting a Choropleth"
   ]
  },
  {
   "cell_type": "markdown",
   "metadata": {},
   "source": [
    "# 1. Importing data and libraries"
   ]
  },
  {
   "cell_type": "code",
   "execution_count": 1,
   "metadata": {},
   "outputs": [],
   "source": [
    "import pandas as pd\n",
    "import numpy as np\n",
    "import seaborn as sns\n",
    "import matplotlib.pyplot as plt\n",
    "import matplotlib\n",
    "import os\n",
    "import geopandas as gpd\n",
    "import geoplot"
   ]
  },
  {
   "cell_type": "code",
   "execution_count": 2,
   "metadata": {},
   "outputs": [],
   "source": [
    "# This command prompts matplotlib visuals to appear in the notebook.\n",
    "\n",
    "%matplotlib inline"
   ]
  },
  {
   "cell_type": "code",
   "execution_count": 3,
   "metadata": {},
   "outputs": [],
   "source": [
    "path = r'C:\\Users\\chery\\Desktop\\CareerFoundry\\Immersion Data Analytics\\Achievement 6'"
   ]
  },
  {
   "cell_type": "code",
   "execution_count": 4,
   "metadata": {},
   "outputs": [],
   "source": [
    "# Import \".shp\" file for the U.S. shape outline using the Geopandas `read_csv` command.\n",
    "\n",
    "usa = gpd.read_file(os.path.join(path, 'WinRAR for Task 6.3','USA_States.shp'))"
   ]
  },
  {
   "cell_type": "code",
   "execution_count": 5,
   "metadata": {},
   "outputs": [
    {
     "data": {
      "text/html": [
       "<div>\n",
       "<style scoped>\n",
       "    .dataframe tbody tr th:only-of-type {\n",
       "        vertical-align: middle;\n",
       "    }\n",
       "\n",
       "    .dataframe tbody tr th {\n",
       "        vertical-align: top;\n",
       "    }\n",
       "\n",
       "    .dataframe thead th {\n",
       "        text-align: right;\n",
       "    }\n",
       "</style>\n",
       "<table border=\"1\" class=\"dataframe\">\n",
       "  <thead>\n",
       "    <tr style=\"text-align: right;\">\n",
       "      <th></th>\n",
       "      <th>STATE_NAME</th>\n",
       "      <th>STATE_FIPS</th>\n",
       "      <th>STATE_ABBR</th>\n",
       "      <th>geometry</th>\n",
       "    </tr>\n",
       "  </thead>\n",
       "  <tbody>\n",
       "    <tr>\n",
       "      <th>0</th>\n",
       "      <td>Washington</td>\n",
       "      <td>53</td>\n",
       "      <td>WA</td>\n",
       "      <td>MULTIPOLYGON (((-122.40202 48.22522, -122.4628...</td>\n",
       "    </tr>\n",
       "    <tr>\n",
       "      <th>1</th>\n",
       "      <td>Montana</td>\n",
       "      <td>30</td>\n",
       "      <td>MT</td>\n",
       "      <td>POLYGON ((-111.47543 44.70216, -111.48080 44.6...</td>\n",
       "    </tr>\n",
       "    <tr>\n",
       "      <th>2</th>\n",
       "      <td>Maine</td>\n",
       "      <td>23</td>\n",
       "      <td>ME</td>\n",
       "      <td>MULTIPOLYGON (((-69.77728 44.07415, -69.85993 ...</td>\n",
       "    </tr>\n",
       "    <tr>\n",
       "      <th>3</th>\n",
       "      <td>North Dakota</td>\n",
       "      <td>38</td>\n",
       "      <td>ND</td>\n",
       "      <td>POLYGON ((-98.73044 45.93827, -99.00683 45.939...</td>\n",
       "    </tr>\n",
       "    <tr>\n",
       "      <th>4</th>\n",
       "      <td>South Dakota</td>\n",
       "      <td>46</td>\n",
       "      <td>SD</td>\n",
       "      <td>POLYGON ((-102.78838 42.99530, -103.00588 42.9...</td>\n",
       "    </tr>\n",
       "  </tbody>\n",
       "</table>\n",
       "</div>"
      ],
      "text/plain": [
       "     STATE_NAME STATE_FIPS STATE_ABBR  \\\n",
       "0    Washington         53         WA   \n",
       "1       Montana         30         MT   \n",
       "2         Maine         23         ME   \n",
       "3  North Dakota         38         ND   \n",
       "4  South Dakota         46         SD   \n",
       "\n",
       "                                            geometry  \n",
       "0  MULTIPOLYGON (((-122.40202 48.22522, -122.4628...  \n",
       "1  POLYGON ((-111.47543 44.70216, -111.48080 44.6...  \n",
       "2  MULTIPOLYGON (((-69.77728 44.07415, -69.85993 ...  \n",
       "3  POLYGON ((-98.73044 45.93827, -99.00683 45.939...  \n",
       "4  POLYGON ((-102.78838 42.99530, -103.00588 42.9...  "
      ]
     },
     "execution_count": 5,
     "metadata": {},
     "output_type": "execute_result"
    }
   ],
   "source": [
    "# View the head of the new Geodataframe\n",
    "\n",
    "usa.head()"
   ]
  },
  {
   "cell_type": "code",
   "execution_count": 5,
   "metadata": {},
   "outputs": [],
   "source": [
    "# Import PPP data\n",
    "\n",
    "df = pd.read_pickle(os.path.join(path, '04-2021 PPP Loan Analysis','02 Data', 'Prepared Data','ppp_cleaned.pkl'))"
   ]
  },
  {
   "cell_type": "code",
   "execution_count": 8,
   "metadata": {},
   "outputs": [
    {
     "data": {
      "text/html": [
       "<div>\n",
       "<style scoped>\n",
       "    .dataframe tbody tr th:only-of-type {\n",
       "        vertical-align: middle;\n",
       "    }\n",
       "\n",
       "    .dataframe tbody tr th {\n",
       "        vertical-align: top;\n",
       "    }\n",
       "\n",
       "    .dataframe thead th {\n",
       "        text-align: right;\n",
       "    }\n",
       "</style>\n",
       "<table border=\"1\" class=\"dataframe\">\n",
       "  <thead>\n",
       "    <tr style=\"text-align: right;\">\n",
       "      <th></th>\n",
       "      <th>loan_amount</th>\n",
       "      <th>city</th>\n",
       "      <th>state</th>\n",
       "      <th>zip</th>\n",
       "      <th>industry_code</th>\n",
       "      <th>business_type</th>\n",
       "      <th>business_owner_race</th>\n",
       "      <th>business_owner_gender</th>\n",
       "      <th>business_owner_vet_status</th>\n",
       "      <th>jobs_reported</th>\n",
       "      <th>date_loan_approved</th>\n",
       "      <th>lender</th>\n",
       "      <th>congressional_district</th>\n",
       "    </tr>\n",
       "  </thead>\n",
       "  <tbody>\n",
       "    <tr>\n",
       "      <th>0</th>\n",
       "      <td>149978.0</td>\n",
       "      <td>Pelham</td>\n",
       "      <td>AL</td>\n",
       "      <td>35124.0</td>\n",
       "      <td>561311.0</td>\n",
       "      <td>Limited  Liability Company(LLC)</td>\n",
       "      <td>NaN</td>\n",
       "      <td>NaN</td>\n",
       "      <td>NaN</td>\n",
       "      <td>17.0</td>\n",
       "      <td>05/07/2020</td>\n",
       "      <td>Truist Bank d/b/a Branch Banking &amp; Trust Co</td>\n",
       "      <td>AL-06</td>\n",
       "    </tr>\n",
       "    <tr>\n",
       "      <th>1</th>\n",
       "      <td>149900.0</td>\n",
       "      <td>Birmingham</td>\n",
       "      <td>AL</td>\n",
       "      <td>35242.0</td>\n",
       "      <td>561311.0</td>\n",
       "      <td>Corporation</td>\n",
       "      <td>NaN</td>\n",
       "      <td>Female Owned</td>\n",
       "      <td>NaN</td>\n",
       "      <td>39.0</td>\n",
       "      <td>04/13/2020</td>\n",
       "      <td>Peoples Bank of Alabama</td>\n",
       "      <td>AL-06</td>\n",
       "    </tr>\n",
       "    <tr>\n",
       "      <th>2</th>\n",
       "      <td>149887.0</td>\n",
       "      <td>Trussville</td>\n",
       "      <td>AL</td>\n",
       "      <td>35173.0</td>\n",
       "      <td>238910.0</td>\n",
       "      <td>Limited  Liability Company(LLC)</td>\n",
       "      <td>NaN</td>\n",
       "      <td>NaN</td>\n",
       "      <td>NaN</td>\n",
       "      <td>14.0</td>\n",
       "      <td>04/15/2020</td>\n",
       "      <td>Bryant Bank</td>\n",
       "      <td>AL-06</td>\n",
       "    </tr>\n",
       "    <tr>\n",
       "      <th>3</th>\n",
       "      <td>149865.0</td>\n",
       "      <td>Trussville</td>\n",
       "      <td>AL</td>\n",
       "      <td>35173.0</td>\n",
       "      <td>621340.0</td>\n",
       "      <td>Self-Employed Individuals</td>\n",
       "      <td>NaN</td>\n",
       "      <td>NaN</td>\n",
       "      <td>NaN</td>\n",
       "      <td>0.0</td>\n",
       "      <td>04/30/2020</td>\n",
       "      <td>Regions Bank</td>\n",
       "      <td>AL-06</td>\n",
       "    </tr>\n",
       "    <tr>\n",
       "      <th>4</th>\n",
       "      <td>149862.0</td>\n",
       "      <td>Springville</td>\n",
       "      <td>AL</td>\n",
       "      <td>35146.0</td>\n",
       "      <td>624221.0</td>\n",
       "      <td>Non-Profit Organization</td>\n",
       "      <td>NaN</td>\n",
       "      <td>NaN</td>\n",
       "      <td>NaN</td>\n",
       "      <td>19.0</td>\n",
       "      <td>04/12/2020</td>\n",
       "      <td>South State Bank, National Association</td>\n",
       "      <td>AL-06</td>\n",
       "    </tr>\n",
       "  </tbody>\n",
       "</table>\n",
       "</div>"
      ],
      "text/plain": [
       "   loan_amount         city state      zip industry_code  \\\n",
       "0     149978.0       Pelham    AL  35124.0      561311.0   \n",
       "1     149900.0   Birmingham    AL  35242.0      561311.0   \n",
       "2     149887.0   Trussville    AL  35173.0      238910.0   \n",
       "3     149865.0   Trussville    AL  35173.0      621340.0   \n",
       "4     149862.0  Springville    AL  35146.0      624221.0   \n",
       "\n",
       "                     business_type business_owner_race business_owner_gender  \\\n",
       "0  Limited  Liability Company(LLC)                 NaN                   NaN   \n",
       "1                      Corporation                 NaN          Female Owned   \n",
       "2  Limited  Liability Company(LLC)                 NaN                   NaN   \n",
       "3        Self-Employed Individuals                 NaN                   NaN   \n",
       "4          Non-Profit Organization                 NaN                   NaN   \n",
       "\n",
       "  business_owner_vet_status  jobs_reported date_loan_approved  \\\n",
       "0                       NaN           17.0         05/07/2020   \n",
       "1                       NaN           39.0         04/13/2020   \n",
       "2                       NaN           14.0         04/15/2020   \n",
       "3                       NaN            0.0         04/30/2020   \n",
       "4                       NaN           19.0         04/12/2020   \n",
       "\n",
       "                                        lender congressional_district  \n",
       "0  Truist Bank d/b/a Branch Banking & Trust Co                  AL-06  \n",
       "1                      Peoples Bank of Alabama                  AL-06  \n",
       "2                                  Bryant Bank                  AL-06  \n",
       "3                                 Regions Bank                  AL-06  \n",
       "4       South State Bank, National Association                  AL-06  "
      ]
     },
     "execution_count": 8,
     "metadata": {},
     "output_type": "execute_result"
    }
   ],
   "source": [
    "df.head()"
   ]
  },
  {
   "cell_type": "code",
   "execution_count": 9,
   "metadata": {},
   "outputs": [
    {
     "data": {
      "text/plain": [
       "(4241736, 13)"
      ]
     },
     "execution_count": 9,
     "metadata": {},
     "output_type": "execute_result"
    }
   ],
   "source": [
    "df.shape"
   ]
  },
  {
   "cell_type": "markdown",
   "metadata": {},
   "source": [
    "# 2. Data Wrangling"
   ]
  },
  {
   "cell_type": "code",
   "execution_count": 10,
   "metadata": {},
   "outputs": [],
   "source": [
    "#Rename PPP data 'state' column to 'STATE_ABBR' to match shapefile's column\n",
    "\n",
    "df.rename(columns = {'state':'STATE_ABBR'}, inplace=True)"
   ]
  },
  {
   "cell_type": "code",
   "execution_count": 11,
   "metadata": {},
   "outputs": [
    {
     "data": {
      "text/html": [
       "<div>\n",
       "<style scoped>\n",
       "    .dataframe tbody tr th:only-of-type {\n",
       "        vertical-align: middle;\n",
       "    }\n",
       "\n",
       "    .dataframe tbody tr th {\n",
       "        vertical-align: top;\n",
       "    }\n",
       "\n",
       "    .dataframe thead th {\n",
       "        text-align: right;\n",
       "    }\n",
       "</style>\n",
       "<table border=\"1\" class=\"dataframe\">\n",
       "  <thead>\n",
       "    <tr style=\"text-align: right;\">\n",
       "      <th></th>\n",
       "      <th>loan_amount</th>\n",
       "      <th>city</th>\n",
       "      <th>STATE_ABBR</th>\n",
       "      <th>zip</th>\n",
       "      <th>industry_code</th>\n",
       "      <th>business_type</th>\n",
       "      <th>business_owner_race</th>\n",
       "      <th>business_owner_gender</th>\n",
       "      <th>business_owner_vet_status</th>\n",
       "      <th>jobs_reported</th>\n",
       "      <th>date_loan_approved</th>\n",
       "      <th>lender</th>\n",
       "      <th>congressional_district</th>\n",
       "    </tr>\n",
       "  </thead>\n",
       "  <tbody>\n",
       "    <tr>\n",
       "      <th>0</th>\n",
       "      <td>149978.0</td>\n",
       "      <td>Pelham</td>\n",
       "      <td>AL</td>\n",
       "      <td>35124.0</td>\n",
       "      <td>561311.0</td>\n",
       "      <td>Limited  Liability Company(LLC)</td>\n",
       "      <td>NaN</td>\n",
       "      <td>NaN</td>\n",
       "      <td>NaN</td>\n",
       "      <td>17.0</td>\n",
       "      <td>05/07/2020</td>\n",
       "      <td>Truist Bank d/b/a Branch Banking &amp; Trust Co</td>\n",
       "      <td>AL-06</td>\n",
       "    </tr>\n",
       "    <tr>\n",
       "      <th>1</th>\n",
       "      <td>149900.0</td>\n",
       "      <td>Birmingham</td>\n",
       "      <td>AL</td>\n",
       "      <td>35242.0</td>\n",
       "      <td>561311.0</td>\n",
       "      <td>Corporation</td>\n",
       "      <td>NaN</td>\n",
       "      <td>Female Owned</td>\n",
       "      <td>NaN</td>\n",
       "      <td>39.0</td>\n",
       "      <td>04/13/2020</td>\n",
       "      <td>Peoples Bank of Alabama</td>\n",
       "      <td>AL-06</td>\n",
       "    </tr>\n",
       "    <tr>\n",
       "      <th>2</th>\n",
       "      <td>149887.0</td>\n",
       "      <td>Trussville</td>\n",
       "      <td>AL</td>\n",
       "      <td>35173.0</td>\n",
       "      <td>238910.0</td>\n",
       "      <td>Limited  Liability Company(LLC)</td>\n",
       "      <td>NaN</td>\n",
       "      <td>NaN</td>\n",
       "      <td>NaN</td>\n",
       "      <td>14.0</td>\n",
       "      <td>04/15/2020</td>\n",
       "      <td>Bryant Bank</td>\n",
       "      <td>AL-06</td>\n",
       "    </tr>\n",
       "    <tr>\n",
       "      <th>3</th>\n",
       "      <td>149865.0</td>\n",
       "      <td>Trussville</td>\n",
       "      <td>AL</td>\n",
       "      <td>35173.0</td>\n",
       "      <td>621340.0</td>\n",
       "      <td>Self-Employed Individuals</td>\n",
       "      <td>NaN</td>\n",
       "      <td>NaN</td>\n",
       "      <td>NaN</td>\n",
       "      <td>0.0</td>\n",
       "      <td>04/30/2020</td>\n",
       "      <td>Regions Bank</td>\n",
       "      <td>AL-06</td>\n",
       "    </tr>\n",
       "    <tr>\n",
       "      <th>4</th>\n",
       "      <td>149862.0</td>\n",
       "      <td>Springville</td>\n",
       "      <td>AL</td>\n",
       "      <td>35146.0</td>\n",
       "      <td>624221.0</td>\n",
       "      <td>Non-Profit Organization</td>\n",
       "      <td>NaN</td>\n",
       "      <td>NaN</td>\n",
       "      <td>NaN</td>\n",
       "      <td>19.0</td>\n",
       "      <td>04/12/2020</td>\n",
       "      <td>South State Bank, National Association</td>\n",
       "      <td>AL-06</td>\n",
       "    </tr>\n",
       "  </tbody>\n",
       "</table>\n",
       "</div>"
      ],
      "text/plain": [
       "   loan_amount         city STATE_ABBR      zip industry_code  \\\n",
       "0     149978.0       Pelham         AL  35124.0      561311.0   \n",
       "1     149900.0   Birmingham         AL  35242.0      561311.0   \n",
       "2     149887.0   Trussville         AL  35173.0      238910.0   \n",
       "3     149865.0   Trussville         AL  35173.0      621340.0   \n",
       "4     149862.0  Springville         AL  35146.0      624221.0   \n",
       "\n",
       "                     business_type business_owner_race business_owner_gender  \\\n",
       "0  Limited  Liability Company(LLC)                 NaN                   NaN   \n",
       "1                      Corporation                 NaN          Female Owned   \n",
       "2  Limited  Liability Company(LLC)                 NaN                   NaN   \n",
       "3        Self-Employed Individuals                 NaN                   NaN   \n",
       "4          Non-Profit Organization                 NaN                   NaN   \n",
       "\n",
       "  business_owner_vet_status  jobs_reported date_loan_approved  \\\n",
       "0                       NaN           17.0         05/07/2020   \n",
       "1                       NaN           39.0         04/13/2020   \n",
       "2                       NaN           14.0         04/15/2020   \n",
       "3                       NaN            0.0         04/30/2020   \n",
       "4                       NaN           19.0         04/12/2020   \n",
       "\n",
       "                                        lender congressional_district  \n",
       "0  Truist Bank d/b/a Branch Banking & Trust Co                  AL-06  \n",
       "1                      Peoples Bank of Alabama                  AL-06  \n",
       "2                                  Bryant Bank                  AL-06  \n",
       "3                                 Regions Bank                  AL-06  \n",
       "4       South State Bank, National Association                  AL-06  "
      ]
     },
     "execution_count": 11,
     "metadata": {},
     "output_type": "execute_result"
    }
   ],
   "source": [
    "#Check column renamed\n",
    "\n",
    "df.head()"
   ]
  },
  {
   "cell_type": "markdown",
   "metadata": {},
   "source": [
    "# 3. Data Merging"
   ]
  },
  {
   "cell_type": "code",
   "execution_count": 12,
   "metadata": {},
   "outputs": [],
   "source": [
    "# Merge both dataframes on the \"STATE_ABBR\" column.\n",
    "\n",
    "# NB: You need to merge the PPP dataframe INTO the GeoDataFrame; otherwise, the output will be a pandas dataframe rather \n",
    "# than a Geopandas dataframe.\n",
    "\n",
    "df_merged = usa.merge(df, on = 'STATE_ABBR', how = 'outer', indicator = True)"
   ]
  },
  {
   "cell_type": "code",
   "execution_count": 13,
   "metadata": {},
   "outputs": [
    {
     "data": {
      "text/plain": [
       "geopandas.geodataframe.GeoDataFrame"
      ]
     },
     "execution_count": 13,
     "metadata": {},
     "output_type": "execute_result"
    }
   ],
   "source": [
    "#Checking data type\n",
    "\n",
    "type(df_merged)"
   ]
  },
  {
   "cell_type": "code",
   "execution_count": 14,
   "metadata": {},
   "outputs": [
    {
     "data": {
      "text/plain": [
       "(4241736, 17)"
      ]
     },
     "execution_count": 14,
     "metadata": {},
     "output_type": "execute_result"
    }
   ],
   "source": [
    "#Checking df shape\n",
    "\n",
    "df_merged.shape"
   ]
  },
  {
   "cell_type": "code",
   "execution_count": 15,
   "metadata": {},
   "outputs": [
    {
     "data": {
      "text/html": [
       "<div>\n",
       "<style scoped>\n",
       "    .dataframe tbody tr th:only-of-type {\n",
       "        vertical-align: middle;\n",
       "    }\n",
       "\n",
       "    .dataframe tbody tr th {\n",
       "        vertical-align: top;\n",
       "    }\n",
       "\n",
       "    .dataframe thead th {\n",
       "        text-align: right;\n",
       "    }\n",
       "</style>\n",
       "<table border=\"1\" class=\"dataframe\">\n",
       "  <thead>\n",
       "    <tr style=\"text-align: right;\">\n",
       "      <th></th>\n",
       "      <th>STATE_NAME</th>\n",
       "      <th>STATE_FIPS</th>\n",
       "      <th>STATE_ABBR</th>\n",
       "      <th>geometry</th>\n",
       "      <th>loan_amount</th>\n",
       "      <th>city</th>\n",
       "      <th>zip</th>\n",
       "      <th>industry_code</th>\n",
       "      <th>business_type</th>\n",
       "      <th>business_owner_race</th>\n",
       "      <th>business_owner_gender</th>\n",
       "      <th>business_owner_vet_status</th>\n",
       "      <th>jobs_reported</th>\n",
       "      <th>date_loan_approved</th>\n",
       "      <th>lender</th>\n",
       "      <th>congressional_district</th>\n",
       "      <th>_merge</th>\n",
       "    </tr>\n",
       "  </thead>\n",
       "  <tbody>\n",
       "    <tr>\n",
       "      <th>0</th>\n",
       "      <td>Washington</td>\n",
       "      <td>53</td>\n",
       "      <td>WA</td>\n",
       "      <td>MULTIPOLYGON (((-122.40202 48.22522, -122.4628...</td>\n",
       "      <td>149992.0</td>\n",
       "      <td>Bellingham</td>\n",
       "      <td>98225.0</td>\n",
       "      <td>nan</td>\n",
       "      <td>Subchapter S Corporation</td>\n",
       "      <td>NaN</td>\n",
       "      <td>NaN</td>\n",
       "      <td>NaN</td>\n",
       "      <td>11.0</td>\n",
       "      <td>05/01/2020</td>\n",
       "      <td>JPMorgan Chase Bank, National Association</td>\n",
       "      <td>WA-02</td>\n",
       "      <td>both</td>\n",
       "    </tr>\n",
       "    <tr>\n",
       "      <th>1</th>\n",
       "      <td>Washington</td>\n",
       "      <td>53</td>\n",
       "      <td>WA</td>\n",
       "      <td>MULTIPOLYGON (((-122.40202 48.22522, -122.4628...</td>\n",
       "      <td>149980.0</td>\n",
       "      <td>Spokane Valley</td>\n",
       "      <td>99216.0</td>\n",
       "      <td>621210.0</td>\n",
       "      <td>Limited  Liability Company(LLC)</td>\n",
       "      <td>NaN</td>\n",
       "      <td>NaN</td>\n",
       "      <td>NaN</td>\n",
       "      <td>12.0</td>\n",
       "      <td>04/29/2020</td>\n",
       "      <td>Banner Bank</td>\n",
       "      <td>WA-05</td>\n",
       "      <td>both</td>\n",
       "    </tr>\n",
       "    <tr>\n",
       "      <th>2</th>\n",
       "      <td>Washington</td>\n",
       "      <td>53</td>\n",
       "      <td>WA</td>\n",
       "      <td>MULTIPOLYGON (((-122.40202 48.22522, -122.4628...</td>\n",
       "      <td>149975.0</td>\n",
       "      <td>Kirkland</td>\n",
       "      <td>98033.0</td>\n",
       "      <td>339999.0</td>\n",
       "      <td>Subchapter S Corporation</td>\n",
       "      <td>NaN</td>\n",
       "      <td>NaN</td>\n",
       "      <td>NaN</td>\n",
       "      <td>6.0</td>\n",
       "      <td>04/16/2020</td>\n",
       "      <td>Seattle Bank</td>\n",
       "      <td>WA-01</td>\n",
       "      <td>both</td>\n",
       "    </tr>\n",
       "    <tr>\n",
       "      <th>3</th>\n",
       "      <td>Washington</td>\n",
       "      <td>53</td>\n",
       "      <td>WA</td>\n",
       "      <td>MULTIPOLYGON (((-122.40202 48.22522, -122.4628...</td>\n",
       "      <td>149950.0</td>\n",
       "      <td>Port Orchard</td>\n",
       "      <td>98367.0</td>\n",
       "      <td>238210.0</td>\n",
       "      <td>Limited  Liability Company(LLC)</td>\n",
       "      <td>NaN</td>\n",
       "      <td>NaN</td>\n",
       "      <td>NaN</td>\n",
       "      <td>10.0</td>\n",
       "      <td>06/13/2020</td>\n",
       "      <td>Kabbage, Inc.</td>\n",
       "      <td>WA-06</td>\n",
       "      <td>both</td>\n",
       "    </tr>\n",
       "    <tr>\n",
       "      <th>4</th>\n",
       "      <td>Washington</td>\n",
       "      <td>53</td>\n",
       "      <td>WA</td>\n",
       "      <td>MULTIPOLYGON (((-122.40202 48.22522, -122.4628...</td>\n",
       "      <td>149922.0</td>\n",
       "      <td>Burlington</td>\n",
       "      <td>98233.0</td>\n",
       "      <td>999990.0</td>\n",
       "      <td>Subchapter S Corporation</td>\n",
       "      <td>NaN</td>\n",
       "      <td>NaN</td>\n",
       "      <td>NaN</td>\n",
       "      <td>12.0</td>\n",
       "      <td>05/03/2020</td>\n",
       "      <td>Cross River Bank</td>\n",
       "      <td>WA-02</td>\n",
       "      <td>both</td>\n",
       "    </tr>\n",
       "  </tbody>\n",
       "</table>\n",
       "</div>"
      ],
      "text/plain": [
       "   STATE_NAME STATE_FIPS STATE_ABBR  \\\n",
       "0  Washington         53         WA   \n",
       "1  Washington         53         WA   \n",
       "2  Washington         53         WA   \n",
       "3  Washington         53         WA   \n",
       "4  Washington         53         WA   \n",
       "\n",
       "                                            geometry  loan_amount  \\\n",
       "0  MULTIPOLYGON (((-122.40202 48.22522, -122.4628...     149992.0   \n",
       "1  MULTIPOLYGON (((-122.40202 48.22522, -122.4628...     149980.0   \n",
       "2  MULTIPOLYGON (((-122.40202 48.22522, -122.4628...     149975.0   \n",
       "3  MULTIPOLYGON (((-122.40202 48.22522, -122.4628...     149950.0   \n",
       "4  MULTIPOLYGON (((-122.40202 48.22522, -122.4628...     149922.0   \n",
       "\n",
       "             city      zip industry_code                    business_type  \\\n",
       "0      Bellingham  98225.0           nan         Subchapter S Corporation   \n",
       "1  Spokane Valley  99216.0      621210.0  Limited  Liability Company(LLC)   \n",
       "2        Kirkland  98033.0      339999.0         Subchapter S Corporation   \n",
       "3    Port Orchard  98367.0      238210.0  Limited  Liability Company(LLC)   \n",
       "4      Burlington  98233.0      999990.0         Subchapter S Corporation   \n",
       "\n",
       "  business_owner_race business_owner_gender business_owner_vet_status  \\\n",
       "0                 NaN                   NaN                       NaN   \n",
       "1                 NaN                   NaN                       NaN   \n",
       "2                 NaN                   NaN                       NaN   \n",
       "3                 NaN                   NaN                       NaN   \n",
       "4                 NaN                   NaN                       NaN   \n",
       "\n",
       "   jobs_reported date_loan_approved  \\\n",
       "0           11.0         05/01/2020   \n",
       "1           12.0         04/29/2020   \n",
       "2            6.0         04/16/2020   \n",
       "3           10.0         06/13/2020   \n",
       "4           12.0         05/03/2020   \n",
       "\n",
       "                                      lender congressional_district _merge  \n",
       "0  JPMorgan Chase Bank, National Association                  WA-02   both  \n",
       "1                                Banner Bank                  WA-05   both  \n",
       "2                               Seattle Bank                  WA-01   both  \n",
       "3                              Kabbage, Inc.                  WA-06   both  \n",
       "4                           Cross River Bank                  WA-02   both  "
      ]
     },
     "execution_count": 15,
     "metadata": {},
     "output_type": "execute_result"
    }
   ],
   "source": [
    "df_merged.head()"
   ]
  },
  {
   "cell_type": "code",
   "execution_count": 16,
   "metadata": {},
   "outputs": [
    {
     "data": {
      "text/plain": [
       "both          4200172\n",
       "right_only      41564\n",
       "left_only           0\n",
       "Name: _merge, dtype: int64"
      ]
     },
     "execution_count": 16,
     "metadata": {},
     "output_type": "execute_result"
    }
   ],
   "source": [
    "df_merged['_merge'].value_counts()"
   ]
  },
  {
   "cell_type": "markdown",
   "metadata": {},
   "source": [
    "# 4. Data Cleaning"
   ]
  },
  {
   "cell_type": "markdown",
   "metadata": {},
   "source": [
    "## Missing Values Check"
   ]
  },
  {
   "cell_type": "code",
   "execution_count": 17,
   "metadata": {},
   "outputs": [
    {
     "data": {
      "text/plain": [
       "STATE_NAME                     41564\n",
       "STATE_FIPS                     41564\n",
       "STATE_ABBR                         0\n",
       "geometry                       41564\n",
       "loan_amount                        0\n",
       "city                               0\n",
       "zip                                0\n",
       "industry_code                      0\n",
       "business_type                      0\n",
       "business_owner_race          3810892\n",
       "business_owner_gender        3353399\n",
       "business_owner_vet_status    3646406\n",
       "jobs_reported                      0\n",
       "date_loan_approved                 0\n",
       "lender                             0\n",
       "congressional_district             0\n",
       "_merge                             0\n",
       "dtype: int64"
      ]
     },
     "execution_count": 17,
     "metadata": {},
     "output_type": "execute_result"
    }
   ],
   "source": [
    "# Check for missing values.\n",
    "\n",
    "df_merged.isnull().sum()"
   ]
  },
  {
   "cell_type": "code",
   "execution_count": 18,
   "metadata": {},
   "outputs": [],
   "source": [
    "# Remove the 41,564 rows from Geodataframe that are blank\n",
    "\n",
    "df_merged_clean = df_merged[df_merged['STATE_NAME'].isnull() == False]"
   ]
  },
  {
   "cell_type": "code",
   "execution_count": 19,
   "metadata": {},
   "outputs": [
    {
     "data": {
      "text/plain": [
       "STATE_NAME                         0\n",
       "STATE_FIPS                         0\n",
       "STATE_ABBR                         0\n",
       "geometry                           0\n",
       "loan_amount                        0\n",
       "city                               0\n",
       "zip                                0\n",
       "industry_code                      0\n",
       "business_type                      0\n",
       "business_owner_race          3773255\n",
       "business_owner_gender        3322909\n",
       "business_owner_vet_status    3612897\n",
       "jobs_reported                      0\n",
       "date_loan_approved                 0\n",
       "lender                             0\n",
       "congressional_district             0\n",
       "_merge                             0\n",
       "dtype: int64"
      ]
     },
     "execution_count": 19,
     "metadata": {},
     "output_type": "execute_result"
    }
   ],
   "source": [
    "# Check for missing values.\n",
    "\n",
    "df_merged_clean.isnull().sum()"
   ]
  },
  {
   "cell_type": "code",
   "execution_count": 20,
   "metadata": {},
   "outputs": [
    {
     "data": {
      "text/plain": [
       "both          4200172\n",
       "left_only           0\n",
       "right_only          0\n",
       "Name: _merge, dtype: int64"
      ]
     },
     "execution_count": 20,
     "metadata": {},
     "output_type": "execute_result"
    }
   ],
   "source": [
    "# By removing the observations above, you also solved the problem of not having a full match after the merge.\n",
    "\n",
    "df_merged_clean['_merge'].value_counts(dropna = False)"
   ]
  },
  {
   "cell_type": "markdown",
   "metadata": {},
   "source": [
    "## Importing DF Where Cleaning Left Off"
   ]
  },
  {
   "cell_type": "code",
   "execution_count": 6,
   "metadata": {},
   "outputs": [],
   "source": [
    "# Import Merged Clean DF\n",
    "\n",
    "df_final = pd.read_pickle(os.path.join(path, '04-2021 PPP Loan Analysis','02 Data', 'Prepared Data','Task 6.3 Merged.pkl'))"
   ]
  },
  {
   "cell_type": "markdown",
   "metadata": {},
   "source": [
    "## Duplicates Check"
   ]
  },
  {
   "cell_type": "code",
   "execution_count": 7,
   "metadata": {},
   "outputs": [
    {
     "data": {
      "text/html": [
       "<div>\n",
       "<style scoped>\n",
       "    .dataframe tbody tr th:only-of-type {\n",
       "        vertical-align: middle;\n",
       "    }\n",
       "\n",
       "    .dataframe tbody tr th {\n",
       "        vertical-align: top;\n",
       "    }\n",
       "\n",
       "    .dataframe thead th {\n",
       "        text-align: right;\n",
       "    }\n",
       "</style>\n",
       "<table border=\"1\" class=\"dataframe\">\n",
       "  <thead>\n",
       "    <tr style=\"text-align: right;\">\n",
       "      <th></th>\n",
       "      <th>STATE_NAME</th>\n",
       "      <th>STATE_FIPS</th>\n",
       "      <th>STATE_ABBR</th>\n",
       "      <th>geometry</th>\n",
       "      <th>loan_amount</th>\n",
       "      <th>city</th>\n",
       "      <th>zip</th>\n",
       "      <th>industry_code</th>\n",
       "      <th>business_type</th>\n",
       "      <th>business_owner_race</th>\n",
       "      <th>business_owner_gender</th>\n",
       "      <th>business_owner_vet_status</th>\n",
       "      <th>jobs_reported</th>\n",
       "      <th>date_loan_approved</th>\n",
       "      <th>lender</th>\n",
       "      <th>congressional_district</th>\n",
       "      <th>_merge</th>\n",
       "    </tr>\n",
       "  </thead>\n",
       "  <tbody>\n",
       "    <tr>\n",
       "      <th>0</th>\n",
       "      <td>False</td>\n",
       "      <td>False</td>\n",
       "      <td>False</td>\n",
       "      <td>False</td>\n",
       "      <td>False</td>\n",
       "      <td>False</td>\n",
       "      <td>False</td>\n",
       "      <td>False</td>\n",
       "      <td>False</td>\n",
       "      <td>True</td>\n",
       "      <td>True</td>\n",
       "      <td>True</td>\n",
       "      <td>False</td>\n",
       "      <td>False</td>\n",
       "      <td>False</td>\n",
       "      <td>False</td>\n",
       "      <td>False</td>\n",
       "    </tr>\n",
       "    <tr>\n",
       "      <th>1</th>\n",
       "      <td>False</td>\n",
       "      <td>False</td>\n",
       "      <td>False</td>\n",
       "      <td>False</td>\n",
       "      <td>False</td>\n",
       "      <td>False</td>\n",
       "      <td>False</td>\n",
       "      <td>False</td>\n",
       "      <td>False</td>\n",
       "      <td>True</td>\n",
       "      <td>True</td>\n",
       "      <td>True</td>\n",
       "      <td>False</td>\n",
       "      <td>False</td>\n",
       "      <td>False</td>\n",
       "      <td>False</td>\n",
       "      <td>False</td>\n",
       "    </tr>\n",
       "    <tr>\n",
       "      <th>2</th>\n",
       "      <td>False</td>\n",
       "      <td>False</td>\n",
       "      <td>False</td>\n",
       "      <td>False</td>\n",
       "      <td>False</td>\n",
       "      <td>False</td>\n",
       "      <td>False</td>\n",
       "      <td>False</td>\n",
       "      <td>False</td>\n",
       "      <td>True</td>\n",
       "      <td>True</td>\n",
       "      <td>True</td>\n",
       "      <td>False</td>\n",
       "      <td>False</td>\n",
       "      <td>False</td>\n",
       "      <td>False</td>\n",
       "      <td>False</td>\n",
       "    </tr>\n",
       "    <tr>\n",
       "      <th>3</th>\n",
       "      <td>False</td>\n",
       "      <td>False</td>\n",
       "      <td>False</td>\n",
       "      <td>False</td>\n",
       "      <td>False</td>\n",
       "      <td>False</td>\n",
       "      <td>False</td>\n",
       "      <td>False</td>\n",
       "      <td>False</td>\n",
       "      <td>True</td>\n",
       "      <td>True</td>\n",
       "      <td>True</td>\n",
       "      <td>False</td>\n",
       "      <td>False</td>\n",
       "      <td>False</td>\n",
       "      <td>False</td>\n",
       "      <td>False</td>\n",
       "    </tr>\n",
       "    <tr>\n",
       "      <th>4</th>\n",
       "      <td>False</td>\n",
       "      <td>False</td>\n",
       "      <td>False</td>\n",
       "      <td>False</td>\n",
       "      <td>False</td>\n",
       "      <td>False</td>\n",
       "      <td>False</td>\n",
       "      <td>False</td>\n",
       "      <td>False</td>\n",
       "      <td>True</td>\n",
       "      <td>True</td>\n",
       "      <td>True</td>\n",
       "      <td>False</td>\n",
       "      <td>False</td>\n",
       "      <td>False</td>\n",
       "      <td>False</td>\n",
       "      <td>False</td>\n",
       "    </tr>\n",
       "    <tr>\n",
       "      <th>...</th>\n",
       "      <td>...</td>\n",
       "      <td>...</td>\n",
       "      <td>...</td>\n",
       "      <td>...</td>\n",
       "      <td>...</td>\n",
       "      <td>...</td>\n",
       "      <td>...</td>\n",
       "      <td>...</td>\n",
       "      <td>...</td>\n",
       "      <td>...</td>\n",
       "      <td>...</td>\n",
       "      <td>...</td>\n",
       "      <td>...</td>\n",
       "      <td>...</td>\n",
       "      <td>...</td>\n",
       "      <td>...</td>\n",
       "      <td>...</td>\n",
       "    </tr>\n",
       "    <tr>\n",
       "      <th>4200167</th>\n",
       "      <td>False</td>\n",
       "      <td>False</td>\n",
       "      <td>False</td>\n",
       "      <td>False</td>\n",
       "      <td>False</td>\n",
       "      <td>False</td>\n",
       "      <td>False</td>\n",
       "      <td>False</td>\n",
       "      <td>False</td>\n",
       "      <td>True</td>\n",
       "      <td>False</td>\n",
       "      <td>True</td>\n",
       "      <td>False</td>\n",
       "      <td>False</td>\n",
       "      <td>False</td>\n",
       "      <td>False</td>\n",
       "      <td>False</td>\n",
       "    </tr>\n",
       "    <tr>\n",
       "      <th>4200168</th>\n",
       "      <td>False</td>\n",
       "      <td>False</td>\n",
       "      <td>False</td>\n",
       "      <td>False</td>\n",
       "      <td>False</td>\n",
       "      <td>False</td>\n",
       "      <td>False</td>\n",
       "      <td>False</td>\n",
       "      <td>False</td>\n",
       "      <td>True</td>\n",
       "      <td>True</td>\n",
       "      <td>True</td>\n",
       "      <td>False</td>\n",
       "      <td>False</td>\n",
       "      <td>False</td>\n",
       "      <td>False</td>\n",
       "      <td>False</td>\n",
       "    </tr>\n",
       "    <tr>\n",
       "      <th>4200169</th>\n",
       "      <td>False</td>\n",
       "      <td>False</td>\n",
       "      <td>False</td>\n",
       "      <td>False</td>\n",
       "      <td>False</td>\n",
       "      <td>False</td>\n",
       "      <td>False</td>\n",
       "      <td>False</td>\n",
       "      <td>False</td>\n",
       "      <td>True</td>\n",
       "      <td>True</td>\n",
       "      <td>True</td>\n",
       "      <td>False</td>\n",
       "      <td>False</td>\n",
       "      <td>False</td>\n",
       "      <td>False</td>\n",
       "      <td>False</td>\n",
       "    </tr>\n",
       "    <tr>\n",
       "      <th>4200170</th>\n",
       "      <td>False</td>\n",
       "      <td>False</td>\n",
       "      <td>False</td>\n",
       "      <td>False</td>\n",
       "      <td>False</td>\n",
       "      <td>False</td>\n",
       "      <td>False</td>\n",
       "      <td>False</td>\n",
       "      <td>False</td>\n",
       "      <td>True</td>\n",
       "      <td>True</td>\n",
       "      <td>True</td>\n",
       "      <td>False</td>\n",
       "      <td>False</td>\n",
       "      <td>False</td>\n",
       "      <td>False</td>\n",
       "      <td>False</td>\n",
       "    </tr>\n",
       "    <tr>\n",
       "      <th>4200171</th>\n",
       "      <td>False</td>\n",
       "      <td>False</td>\n",
       "      <td>False</td>\n",
       "      <td>False</td>\n",
       "      <td>False</td>\n",
       "      <td>False</td>\n",
       "      <td>False</td>\n",
       "      <td>False</td>\n",
       "      <td>False</td>\n",
       "      <td>True</td>\n",
       "      <td>True</td>\n",
       "      <td>True</td>\n",
       "      <td>False</td>\n",
       "      <td>False</td>\n",
       "      <td>False</td>\n",
       "      <td>False</td>\n",
       "      <td>False</td>\n",
       "    </tr>\n",
       "  </tbody>\n",
       "</table>\n",
       "<p>4200172 rows × 17 columns</p>\n",
       "</div>"
      ],
      "text/plain": [
       "         STATE_NAME  STATE_FIPS  STATE_ABBR  geometry  loan_amount   city  \\\n",
       "0             False       False       False     False        False  False   \n",
       "1             False       False       False     False        False  False   \n",
       "2             False       False       False     False        False  False   \n",
       "3             False       False       False     False        False  False   \n",
       "4             False       False       False     False        False  False   \n",
       "...             ...         ...         ...       ...          ...    ...   \n",
       "4200167       False       False       False     False        False  False   \n",
       "4200168       False       False       False     False        False  False   \n",
       "4200169       False       False       False     False        False  False   \n",
       "4200170       False       False       False     False        False  False   \n",
       "4200171       False       False       False     False        False  False   \n",
       "\n",
       "           zip  industry_code  business_type  business_owner_race  \\\n",
       "0        False          False          False                 True   \n",
       "1        False          False          False                 True   \n",
       "2        False          False          False                 True   \n",
       "3        False          False          False                 True   \n",
       "4        False          False          False                 True   \n",
       "...        ...            ...            ...                  ...   \n",
       "4200167  False          False          False                 True   \n",
       "4200168  False          False          False                 True   \n",
       "4200169  False          False          False                 True   \n",
       "4200170  False          False          False                 True   \n",
       "4200171  False          False          False                 True   \n",
       "\n",
       "         business_owner_gender  business_owner_vet_status  jobs_reported  \\\n",
       "0                         True                       True          False   \n",
       "1                         True                       True          False   \n",
       "2                         True                       True          False   \n",
       "3                         True                       True          False   \n",
       "4                         True                       True          False   \n",
       "...                        ...                        ...            ...   \n",
       "4200167                  False                       True          False   \n",
       "4200168                   True                       True          False   \n",
       "4200169                   True                       True          False   \n",
       "4200170                   True                       True          False   \n",
       "4200171                   True                       True          False   \n",
       "\n",
       "         date_loan_approved  lender  congressional_district  _merge  \n",
       "0                     False   False                   False   False  \n",
       "1                     False   False                   False   False  \n",
       "2                     False   False                   False   False  \n",
       "3                     False   False                   False   False  \n",
       "4                     False   False                   False   False  \n",
       "...                     ...     ...                     ...     ...  \n",
       "4200167               False   False                   False   False  \n",
       "4200168               False   False                   False   False  \n",
       "4200169               False   False                   False   False  \n",
       "4200170               False   False                   False   False  \n",
       "4200171               False   False                   False   False  \n",
       "\n",
       "[4200172 rows x 17 columns]"
      ]
     },
     "execution_count": 7,
     "metadata": {},
     "output_type": "execute_result"
    }
   ],
   "source": [
    "df_final.isnull()"
   ]
  },
  {
   "cell_type": "markdown",
   "metadata": {},
   "source": [
    "## Extreme Values Check"
   ]
  },
  {
   "cell_type": "code",
   "execution_count": 7,
   "metadata": {},
   "outputs": [
    {
     "data": {
      "text/plain": [
       "<AxesSubplot:xlabel='loan_amount', ylabel='Count'>"
      ]
     },
     "execution_count": 7,
     "metadata": {},
     "output_type": "execute_result"
    },
    {
     "data": {
      "image/png": "[encoded data removed]",
      "text/plain": [
       "<Figure size 432x288 with 1 Axes>"
      ]
     },
     "metadata": {
      "needs_background": "light"
     },
     "output_type": "display_data"
    }
   ],
   "source": [
    " # Shows extreme values for \"loan_amount\"\n",
    "    \n",
    "sns.histplot(df_final['loan_amount'], bins=20)"
   ]
  },
  {
   "cell_type": "markdown",
   "metadata": {},
   "source": [
    "#### No extreme 'loan amount' values per above histogram"
   ]
  },
  {
   "cell_type": "code",
   "execution_count": 8,
   "metadata": {},
   "outputs": [
    {
     "data": {
      "text/plain": [
       "<AxesSubplot:xlabel='jobs_reported', ylabel='Count'>"
      ]
     },
     "execution_count": 8,
     "metadata": {},
     "output_type": "execute_result"
    },
    {
     "data": {
      "image/png": "[encoded data removed]",
      "text/plain": [
       "<Figure size 432x288 with 1 Axes>"
      ]
     },
     "metadata": {
      "needs_background": "light"
     },
     "output_type": "display_data"
    }
   ],
   "source": [
    " # Shows extreme values for \"jobs_reported\"\n",
    "    \n",
    "sns.histplot(df_final['jobs_reported'], bins=20)"
   ]
  },
  {
   "cell_type": "markdown",
   "metadata": {},
   "source": [
    "#### No extreme 'job reported' values per above histogram"
   ]
  },
  {
   "cell_type": "markdown",
   "metadata": {},
   "source": [
    "# 5. Splitting DF to run Choropleth"
   ]
  },
  {
   "cell_type": "code",
   "execution_count": 7,
   "metadata": {},
   "outputs": [],
   "source": [
    "#Create List holding True/False values to test np.random.rand() <=0.7\n",
    "\n",
    "np.random.seed(4)\n",
    "dev = np.random.rand(len(df_final)) <= 0.7"
   ]
  },
  {
   "cell_type": "code",
   "execution_count": 8,
   "metadata": {},
   "outputs": [
    {
     "data": {
      "text/plain": [
       "array([False,  True, False, ...,  True, False,  True])"
      ]
     },
     "execution_count": 8,
     "metadata": {},
     "output_type": "execute_result"
    }
   ],
   "source": [
    "#Results of New List\n",
    "dev"
   ]
  },
  {
   "cell_type": "code",
   "execution_count": 9,
   "metadata": {},
   "outputs": [],
   "source": [
    "#Store 70% of sample in df big, Store 30% of sample in df small\n",
    "\n",
    "big = df_final[dev]\n",
    "small = df_final[~dev]"
   ]
  },
  {
   "cell_type": "code",
   "execution_count": 10,
   "metadata": {},
   "outputs": [
    {
     "data": {
      "text/plain": [
       "4241736"
      ]
     },
     "execution_count": 10,
     "metadata": {},
     "output_type": "execute_result"
    }
   ],
   "source": [
    "#Checking Size of Original df\n",
    "len(df)"
   ]
  },
  {
   "cell_type": "code",
   "execution_count": 11,
   "metadata": {},
   "outputs": [
    {
     "data": {
      "text/plain": [
       "4200172"
      ]
     },
     "execution_count": 11,
     "metadata": {},
     "output_type": "execute_result"
    }
   ],
   "source": [
    "#Checking Size of Big & Small df combined\n",
    "len(big)+len(small)"
   ]
  },
  {
   "cell_type": "code",
   "execution_count": 14,
   "metadata": {},
   "outputs": [],
   "source": [
    "#Reduce samples to only columns necessary for the chart\n",
    "\n",
    "df_small_1 = small[['loan_amount','geometry']]"
   ]
  },
  {
   "cell_type": "code",
   "execution_count": 15,
   "metadata": {},
   "outputs": [],
   "source": [
    "#Reduce samples to only columns necessary for the chart\n",
    "\n",
    "df_small_2 = small[['jobs_reported', 'geometry']]"
   ]
  },
  {
   "cell_type": "markdown",
   "metadata": {},
   "source": [
    "# 6. Plotting a choropleth"
   ]
  },
  {
   "cell_type": "markdown",
   "metadata": {},
   "source": [
    "#### A. Using Geoplot - Loan Amount"
   ]
  },
  {
   "cell_type": "code",
   "execution_count": 16,
   "metadata": {},
   "outputs": [
    {
     "data": {
      "text/html": [
       "<div>\n",
       "<style scoped>\n",
       "    .dataframe tbody tr th:only-of-type {\n",
       "        vertical-align: middle;\n",
       "    }\n",
       "\n",
       "    .dataframe tbody tr th {\n",
       "        vertical-align: top;\n",
       "    }\n",
       "\n",
       "    .dataframe thead th {\n",
       "        text-align: right;\n",
       "    }\n",
       "</style>\n",
       "<table border=\"1\" class=\"dataframe\">\n",
       "  <thead>\n",
       "    <tr style=\"text-align: right;\">\n",
       "      <th></th>\n",
       "      <th>loan_amount</th>\n",
       "      <th>geometry</th>\n",
       "    </tr>\n",
       "  </thead>\n",
       "  <tbody>\n",
       "    <tr>\n",
       "      <th>0</th>\n",
       "      <td>149992.0</td>\n",
       "      <td>MULTIPOLYGON (((-122.40202 48.22522, -122.4628...</td>\n",
       "    </tr>\n",
       "    <tr>\n",
       "      <th>2</th>\n",
       "      <td>149975.0</td>\n",
       "      <td>MULTIPOLYGON (((-122.40202 48.22522, -122.4628...</td>\n",
       "    </tr>\n",
       "    <tr>\n",
       "      <th>3</th>\n",
       "      <td>149950.0</td>\n",
       "      <td>MULTIPOLYGON (((-122.40202 48.22522, -122.4628...</td>\n",
       "    </tr>\n",
       "    <tr>\n",
       "      <th>6</th>\n",
       "      <td>149917.0</td>\n",
       "      <td>MULTIPOLYGON (((-122.40202 48.22522, -122.4628...</td>\n",
       "    </tr>\n",
       "    <tr>\n",
       "      <th>10</th>\n",
       "      <td>149900.0</td>\n",
       "      <td>MULTIPOLYGON (((-122.40202 48.22522, -122.4628...</td>\n",
       "    </tr>\n",
       "  </tbody>\n",
       "</table>\n",
       "</div>"
      ],
      "text/plain": [
       "    loan_amount                                           geometry\n",
       "0      149992.0  MULTIPOLYGON (((-122.40202 48.22522, -122.4628...\n",
       "2      149975.0  MULTIPOLYGON (((-122.40202 48.22522, -122.4628...\n",
       "3      149950.0  MULTIPOLYGON (((-122.40202 48.22522, -122.4628...\n",
       "6      149917.0  MULTIPOLYGON (((-122.40202 48.22522, -122.4628...\n",
       "10     149900.0  MULTIPOLYGON (((-122.40202 48.22522, -122.4628..."
      ]
     },
     "execution_count": 16,
     "metadata": {},
     "output_type": "execute_result"
    }
   ],
   "source": [
    "df_small_1.head()"
   ]
  },
  {
   "cell_type": "code",
   "execution_count": 7,
   "metadata": {},
   "outputs": [],
   "source": [
    "df_loan_amount = df_final.loc[0:4200172,['loan_amount','geometry']]"
   ]
  },
  {
   "cell_type": "code",
   "execution_count": 8,
   "metadata": {},
   "outputs": [
    {
     "data": {
      "text/plain": [
       "(4200172, 2)"
      ]
     },
     "execution_count": 8,
     "metadata": {},
     "output_type": "execute_result"
    }
   ],
   "source": [
    "df_loan_amount.shape"
   ]
  },
  {
   "cell_type": "code",
   "execution_count": null,
   "metadata": {
    "scrolled": true
   },
   "outputs": [],
   "source": [
    "gp = geoplot.choropleth(\n",
    "    df_small_1, hue = 'loan_amount', scheme = None,\n",
    "    cmap='Reds', figsize=(15, 15)\n",
    ")"
   ]
  },
  {
   "cell_type": "markdown",
   "metadata": {},
   "source": [
    "#### B. Using Geoplot - Jobs Reported"
   ]
  },
  {
   "cell_type": "code",
   "execution_count": null,
   "metadata": {},
   "outputs": [],
   "source": [
    "gp_jobsreported = geoplot.choropleth(\n",
    "    df_final, hue = df_final['jobs_reported'], scheme = None,\n",
    "    cmap='Reds', figsize=(15, 15)\n",
    ")"
   ]
  },
  {
   "cell_type": "markdown",
   "metadata": {},
   "source": [
    "#### C. Using Matplotlib - Loan Amount"
   ]
  },
  {
   "cell_type": "code",
   "execution_count": null,
   "metadata": {},
   "outputs": [],
   "source": [
    "# Create a subplot with `fig` and `ax`\n",
    "\n",
    "fig, ax = plt.subplots(1, figsize=(15, 15))"
   ]
  },
  {
   "cell_type": "code",
   "execution_count": null,
   "metadata": {},
   "outputs": [],
   "source": [
    "plt.title('Highest Loan Amounts in the US', size=30)\n",
    "loan_amount = df_final.plot(column='loan_amount',\n",
    "cmap='Pinks',      # Color map for the states                     \n",
    "             linewidth=0.6,      # Line width for state borders\n",
    "             ax=ax,              # Plotting the map on `ax`\n",
    "             edgecolor='black'); # State border colors"
   ]
  },
  {
   "cell_type": "code",
   "execution_count": null,
   "metadata": {},
   "outputs": [],
   "source": [
    "c_bar_colors = plt.cm.ScalarMappable(cmap='Pinks', norm=plt.Normalize(vmin = df_final['loan_amount'].min(), vmax = df_final['loan_amount'].max()))\n",
    "\n",
    "# Plot the colorbar.\n",
    "color_bar = fig.colorbar(c_bar_colors)"
   ]
  },
  {
   "cell_type": "code",
   "execution_count": null,
   "metadata": {},
   "outputs": [],
   "source": [
    "loan_amount.figure"
   ]
  },
  {
   "cell_type": "markdown",
   "metadata": {},
   "source": [
    "#### D. Using Matplotlib - Jobs Reported"
   ]
  },
  {
   "cell_type": "code",
   "execution_count": null,
   "metadata": {},
   "outputs": [],
   "source": [
    "plt.title('Largest Number of Jobs Reported in the US', size=30)\n",
    "jobs_reported = df_final.plot(column='jobs_reported',\n",
    "cmap='Pinks',      # Color map for the states                     \n",
    "             linewidth=0.6,      # Line width for state borders\n",
    "             ax=ax,              # Plotting the map on `ax`\n",
    "             edgecolor='black'); # State border colors"
   ]
  },
  {
   "cell_type": "code",
   "execution_count": null,
   "metadata": {},
   "outputs": [],
   "source": [
    "c_bar_colors = plt.cm.ScalarMappable(cmap='Pinks', norm=plt.Normalize(vmin=df_final['jobs_reported'].min(), vmax=df_final['jobs_reported'].max()))\n",
    "\n",
    "# Plot the colorbar.\n",
    "color_bar = fig.colorbar(c_bar_colors)"
   ]
  },
  {
   "cell_type": "code",
   "execution_count": null,
   "metadata": {},
   "outputs": [],
   "source": [
    "jobs_reported.figure"
   ]
  }
 ],
 "metadata": {
  "kernelspec": {
   "display_name": "Python 3",
   "language": "python",
   "name": "python3"
  },
  "language_info": {
   "codemirror_mode": {
    "name": "ipython",
    "version": 3
   },
   "file_extension": ".py",
   "mimetype": "text/x-python",
   "name": "python",
   "nbconvert_exporter": "python",
   "pygments_lexer": "ipython3",
   "version": "3.8.8"
  }
 },
 "nbformat": 4,
 "nbformat_minor": 4
}
